{
  "nbformat": 4,
  "nbformat_minor": 0,
  "metadata": {
    "colab": {
      "provenance": [],
      "authorship_tag": "ABX9TyPCqaZgPY1RdYn+MhqVHEEo",
      "include_colab_link": true
    },
    "kernelspec": {
      "name": "python3",
      "display_name": "Python 3"
    },
    "language_info": {
      "name": "python"
    }
  },
  "cells": [
    {
      "cell_type": "markdown",
      "metadata": {
        "id": "view-in-github",
        "colab_type": "text"
      },
      "source": [
        "<a href=\"https://colab.research.google.com/github/Maharshi-Project/InvestSmart/blob/main/Mandate_2_NLP.ipynb\" target=\"_parent\"><img src=\"https://colab.research.google.com/assets/colab-badge.svg\" alt=\"Open In Colab\"/></a>"
      ]
    },
    {
      "cell_type": "code",
      "execution_count": null,
      "metadata": {
        "id": "GtfBb_qpN35C"
      },
      "outputs": [],
      "source": [
        "!pip install langchain\n",
        "!pip3 install unstructured libmagic python-magic"
      ]
    },
    {
      "cell_type": "code",
      "source": [
        "from langchain_community.document_loaders import UnstructuredURLLoader"
      ],
      "metadata": {
        "id": "VX9LGLDJQjix"
      },
      "execution_count": null,
      "outputs": []
    },
    {
      "cell_type": "code",
      "source": [
        "urls = [\n",
        "    \"https://www.moneycontrol.com/news/india/fuel-retailers-swap-central-welfare-scheme-hoardings-with-modis-guarantee-at-petrol-pumps-12402651.html\"\n",
        "    # \"https://www.moneycontrol.com/news/business/ey-financial-services-spearhead-and-veteran-dealmaker-abizer-diwanji-steps-down-12408411.html\",\n",
        "    # \"https://www.bbc.com/news/technology-68483732\",\n",
        "    # \"https://example.com/some-other-url\",\n",
        "    # \"https://www.business-standard.com/industry/news/air-india-records-lowest-punctuality-rate-at-60-19-in-february-shows-data-124030600848_1.html\"\n",
        "]"
      ],
      "metadata": {
        "id": "taINvLAEbhp3"
      },
      "execution_count": 45,
      "outputs": []
    },
    {
      "cell_type": "markdown",
      "source": [
        "**Check for Authentic Data Sources**"
      ],
      "metadata": {
        "id": "jv6ywCJGtZcE"
      }
    },
    {
      "cell_type": "code",
      "source": [
        "import re\n",
        "\n",
        "def check_url(url):\n",
        "    moneycontrol_pattern = r'^https:\\/\\/www\\.moneycontrol\\.com\\/'\n",
        "    bbc_pattern = r'^https:\\/\\/www\\.bbc\\.com\\/'\n",
        "    business_standards = r'^https:\\/\\/www.business-standard\\.com\\/'\n",
        "\n",
        "    if re.match(moneycontrol_pattern, url):\n",
        "        return 1\n",
        "    elif re.match(bbc_pattern, url):\n",
        "        return 1\n",
        "    elif re.match(business_standards, url):\n",
        "        return 1\n",
        "    else:\n",
        "        return 0\n",
        "\n",
        "# Check each URL and print the message\n",
        "valid = True\n",
        "for url in urls:\n",
        "    result = check_url(url)\n",
        "    if(result == 0):\n",
        "        if result == 0:\n",
        "          valid = False\n",
        "          print(f\"Error: Invalid URL - {url}\")\n",
        "\n",
        "if not valid:\n",
        "    print(\"Please check the validity of the provided URLs.\")\n",
        "else:\n",
        "    print(\"All URLs are valid.\")\n"
      ],
      "metadata": {
        "colab": {
          "base_uri": "https://localhost:8080/"
        },
        "id": "nk4yw0rQi_wm",
        "outputId": "a1ed5bec-69b1-4be5-d416-af433a88fbe1"
      },
      "execution_count": 46,
      "outputs": [
        {
          "output_type": "stream",
          "name": "stdout",
          "text": [
            "All URLs are valid.\n"
          ]
        }
      ]
    },
    {
      "cell_type": "code",
      "source": [
        "loader = UnstructuredURLLoader(urls=urls)"
      ],
      "metadata": {
        "id": "w3RHaNDxbn3E"
      },
      "execution_count": 47,
      "outputs": []
    },
    {
      "cell_type": "code",
      "source": [
        "data = loader.load()"
      ],
      "metadata": {
        "id": "uvRmu6Wjbo-q"
      },
      "execution_count": 48,
      "outputs": []
    },
    {
      "cell_type": "code",
      "source": [
        "data[0].page_content"
      ],
      "metadata": {
        "colab": {
          "base_uri": "https://localhost:8080/",
          "height": 123
        },
        "id": "m4kJgBtGRm2Z",
        "outputId": "a9fc7b93-b998-4ba0-b3c2-c98ac19a4bb2"
      },
      "execution_count": 49,
      "outputs": [
        {
          "output_type": "execute_result",
          "data": {
            "text/plain": [
              "'English\\n\\nHindi\\n\\nGujarati\\n\\nSpecials\\n\\nMoneycontrol Trending Stock\\n\\nInfosys\\xa0INE009A01021, INFY, 500209\\n\\nState Bank of India\\xa0INE062A01020, SBIN, 500112\\n\\nYes Bank\\xa0INE528G01027, YESBANK, 532648\\n\\nBank Nifty\\n\\nNifty 500\\n\\nQuotes\\n\\nMutual Funds\\n\\nCommodities\\n\\nFutures & Options\\n\\nCurrency\\n\\nNews\\n\\nCryptocurrency\\n\\nForum\\n\\nNotices\\n\\nVideos\\n\\nGlossary\\n\\nAll\\n\\nHello, Login Hello, LoginLog-inor Sign-UpMy AccountMy Profile My PortfolioMy WatchlistCredit Score₹100 Cash RewardMy FeedMy MessagesPrice AlertsMy Profile My PROMy PortfolioMy WatchlistCredit Score₹100 Cash RewardMy FeedMy MessagesPrice AlertsLogoutChat with UsDownload AppFollow us on:\\n\\nPremium\\n\\nAdvisory Alert!\\n\\nElection 2024MarketsHOMEINDIAN INDICESSTOCK ACTIONAll StatsTop GainersTop LosersOnly BuyersOnly Sellers52 Week High52 Week LowPrice ShockersVolume ShockersMost Active StocksGLOBAL MARKETSUS MARKETSBIG SHARK PORTFOLIOSSTOCK SCANNERECONOMIC CALENDARMARKET ACTIONDashboardF&OFII & DII ActivityCorporate ActionEARNINGSCOMMODITYPRE MARKETRESEARCHAdviceBroker ResearchTechnicalsCURRENCYBONDSWEBINARINTERVIEW SERIESTECHNICAL TRENDSIPOOTHERSCryptocurrencyToolsNewsHOMEPAGEBUSINESSHomeEconomyCompaniesMutual FundsPersonal FinanceIPOStartupsReal EstateSMEGEOGRAPHYIndiaWorldMARKETSHomeStocksTechnical AnalysisEquity ResearchCommodityCurrencyGold RateSilver RateAQISPECIALTrendsLatest NewsOpinionTECHNOLOGYPersonal TechAutoFintechMEDIAPodcastPhotosInfographicsVideosOTHERSMC LearnPoliticsCricketEntertainmentTravelLifestyleHealth and FitnessEducationScienceBooksMC BuzzMC FeaturesTech/StartupsPortfolioWatchlistCommoditiesMutual FundsEXPLOREHomeFind FundTop Ranked FundsPerformance TrackerSIP Performance TrackerETF PerformanceNFOTop Performing CategoriesLearnTOOLSReturns CalculatorLumpsum SIP BalancerDelay Cost CalculatorSIP ReturnMF FORUMTRACKYour MF InvestmentMF PricesMC 30Personal FinanceEXPLOREHomeInvestingInsuranceBankingFinancial PlanningPropertyToolsVideoAsk ExpertExplainerIncome Tax Filing GuideNPSFIXED DEPOSITFixed Deposit Interest CalculatorCorporate DepositsTAXIncome tax Filing GuideIncome Tax CalculatorEmergency Fund CalculatorLOANS & CREDIT CARDSHomeCar Loan CalculatorHome Loan CalculatorEducation Loan CalculatorCredit Card Debit Payoff CalculatorTOOLSProvident Fund CalculatorAssets Allocation PlanningDebt Reduction PlannerDebt Evaluation CalculatorCurrent Expense CalculatorCREDIT SCORE₹100 Cash RewardREAL ESTATE : TRENDS & ANALYTICSMC 30MONEYCONTROL - SECURENOW HEALTH INSURANCE RATINGSGOLD PRICE TODAYUpcoming Chat | Previous TranscriptsAll Schedule | Previous TranscriptForumEXPLORE FORUMHomepageMembership RulesForum TopicsAsk the ExpertTop BoardersUSER PROFILEFORUM TOPICSLatest ThreadsStocksIndexGoldPersonal FinanceJust PostedMF FORUMPOLLSLatest PollsHistorical PollsMarket SentimentsSUPPORTFAQsCode of ConductFeedbackWrite to usVideosVIDEOSHomepageVideos on DemandMarkets with Santo & CJMorning TradeCommodities chat with Manisha GuptaLet`s Talk JobsThe TenantDrive ReportBajar GupshupBits To BillionsPODCASTHomepagePodcast on DemandThe Week on Dalal StreetMarket MinutesMC Special PodcastSimply SavePolicy TalksLIVE TVHindiGujaratiInvest NowInvest in Commercial Real Estate FractionallyPowered By hBits - Fractional Ownership & Investment In Commercial Real EstateOwn a fraction of pre-leased office space with an entry point of 25 lacs.Start generating passive income with up to 10% rental yield and an expected IRR of 18%Invest NowExpert Trading GuidancePowered By Trading Advisories, Courses & Webinars by Top Verified Experts.Unlock Your Trading Potential: Trade like Experts with SEBI registered creators, Learn from Courses & Webinars by India\\'s Finest Finance Experts.Invest NowGo Ad-Free BusinessMarketsStocksEconomyCompaniesTrendsIPOOpinionEV Special\\n\\n>->\\n\\nGo PRO @₹99\\n\\nPRO\\n\\n\\n\\nElection 2024\\n\\nMarketsHOMEINDIAN INDICESSTOCK ACTIONAll StatsTop GainersTop LosersOnly BuyersOnly Sellers52 Week High52 Week LowPrice ShockersVolume ShockersMost Active StocksGLOBAL MARKETSUS MARKETSBIG SHARK PORTFOLIOSSTOCK SCANNERECONOMIC CALENDARMARKET ACTIONDashboardF&OFII & DII ActivityCorporate ActionEARNINGSCOMMODITYPRE MARKETRESEARCHAdviceBroker ResearchTechnicalsCURRENCYBONDSWEBINARINTERVIEW SERIESTECHNICAL TRENDSIPOOTHERSCryptocurrencyTools\\n\\nNewsHOMEPAGEBUSINESSHomeEconomyCompaniesMutual FundsPersonal FinanceIPOStartupsReal EstateSMEGEOGRAPHYIndiaWorldMARKETSHomeStocksTechnical AnalysisEquity ResearchCommodityCurrencyGold RateSilver RateAQISPECIALTrendsLatest NewsOpinionTECHNOLOGYPersonal TechAutoFintechMEDIAPodcastPhotosInfographicsVideosOTHERSMC LearnPoliticsCricketEntertainmentTravelLifestyleHealth and FitnessEducationScienceBooksMC BuzzMC Features\\n\\nTech/Startups\\n\\nPortfolio\\n\\nWatchlist\\n\\nCommodities\\n\\nMutual FundsEXPLOREHomeFind FundTop Ranked FundsPerformance TrackerSIP Performance TrackerETF PerformanceNFOTop Performing CategoriesLearnTOOLSReturns CalculatorLumpsum SIP BalancerDelay Cost CalculatorSIP ReturnMF FORUMTRACKYour MF InvestmentMF PricesMC 30\\n\\nPersonal FinanceEXPLOREHomeInvestingInsuranceBankingFinancial PlanningPropertyToolsVideoAsk ExpertExplainerIncome Tax Filing GuideNPSFIXED DEPOSITFixed Deposit Interest CalculatorCorporate DepositsTAXIncome tax Filing GuideIncome Tax CalculatorEmergency Fund CalculatorLOANS & CREDIT CARDSHomeCar Loan CalculatorHome Loan CalculatorEducation Loan CalculatorCredit Card Debit Payoff CalculatorTOOLSProvident Fund CalculatorAssets Allocation PlanningDebt Reduction PlannerDebt Evaluation CalculatorCurrent Expense CalculatorCREDIT SCORE₹100 Cash RewardREAL ESTATE : TRENDS & ANALYTICSMC 30MONEYCONTROL - SECURENOW HEALTH INSURANCE RATINGSGOLD PRICE TODAYUpcoming Chat | Previous TranscriptsAll Schedule | Previous Transcript\\n\\nForumEXPLORE FORUMHomepageMembership RulesForum TopicsAsk the ExpertTop BoardersUSER PROFILEFORUM TOPICSLatest ThreadsStocksIndexGoldPersonal FinanceJust PostedMF FORUMPOLLSLatest PollsHistorical PollsMarket SentimentsSUPPORTFAQsCode of ConductFeedbackWrite to us\\n\\nVideosVIDEOSHomepageVideos on DemandMarkets with Santo & CJMorning TradeCommodities chat with Manisha GuptaLet`s Talk JobsThe TenantDrive ReportBajar GupshupBits To BillionsPODCASTHomepagePodcast on DemandThe Week on Dalal StreetMarket MinutesMC Special PodcastSimply SavePolicy TalksLIVE TVHindiGujarati\\n\\nInvest NowInvest in Commercial Real Estate FractionallyPowered By hBits - Fractional Ownership & Investment In Commercial Real EstateOwn a fraction of pre-leased office space with an entry point of 25 lacs.Start generating passive income with up to 10% rental yield and an expected IRR of 18%Invest NowExpert Trading GuidancePowered By Trading Advisories, Courses & Webinars by Top Verified Experts.Unlock Your Trading Potential: Trade like Experts with SEBI registered creators, Learn from Courses & Webinars by India\\'s Finest Finance Experts.Invest Now\\n\\nGo Ad-Free\\n\\nBusiness\\n\\nMarkets\\n\\nStocks\\n\\nEconomy\\n\\nCompanies\\n\\nTrends\\n\\nIPO\\n\\nOpinion\\n\\nEV Special\\n\\nHome\\n\\nNews\\n\\nIndia\\n\\nFuel retailers swap central welfare scheme hoardings with \\'Modi\\'s Guarantee\\' at petrol pumps: Report\\n\\nThe move, inspired by the BJP\\'s electoral slogan \"Modi ki Guarantee,\" aims to put special emphasis on PM Narendra Modi\\'s role in enhancing citizens\\' lives.\\n\\nMoneycontrol News\\n\\nMarch 05, 2024 / 10:48 AM IST\\n\\n\\n\\n\\n\\n\\n\\n\\n\\n\\n\\n\\n\\nThe revamped hoardings feature a photo of the PM presenting an LPG cylinder to a beneficiary of the Ujjwala scheme,\\n\\nFuel retailers are initiating a nationwide overhaul of hoardings at petrol pumps, replacing existing advertisements of central welfare schemes with new ones bearing the slogan \"Modi\\'s guarantee means a better life\", according to a report by TOI.\\n\\nThe move, inspired by the BJP\\'s electoral slogan \"Modi ki Guarantee,\" aims to put special emphasis on PM Narendra Modi\\'s role in enhancing citizens\\' lives.\\n\\nStory continues below Advertisement\\n\\nRemove Ad\\n\\nThe revamped hoardings feature a photo of the PM presenting an LPG cylinder to a beneficiary of the Ujjwala scheme, a cornerstone of the government\\'s energy justice initiative.\\n\\nAccording to industry sources cited by TOI, managers of all petrol pumps have received directives to cooperate in the swift implementation of these changes, with new flex hoardings expected to be in place by Wednesday evening.\\n\\nAdditionally, TOI\\xa0mentioned\\xa0that that managers are instructed to notify field officers if hoarding vendors engaged by oil companies fail to report at their retail outlets.\\n\\nRelated stories\\n\\nExplained: The Coal Logistics Plan and Policy and why India needs it\\n\\nEAM Jaishankar reveals how PM Modi surprised him with a call to join the government\\n\\nFrom Kaizen to Make in India: A look at India-Japan ties amid Jaishankar\\'s tour\\n\\nThis initiative, informally nudged by the oil ministry, is anticipated to incur substantial costs for the three major public sector fuel retailers - IndianOil, Hindustan Petroleum, and Bharat Petroleum.\\n\\nTogether, these companies manage approximately 90 percent of the country\\'s 88,000 petrol pumps. Each pump typically accommodates at least one hoarding measuring 40*20 in size.\\n\\nHowever, these hoardings would be removed once the Election Commission (ECI) announces the schedule for the much-awaited general elections and the model code of conduct comes into force.\\n\\nStory continues below Advertisement\\n\\nRemove Ad\\n\\nEarlier in March 2021, ahead of the assembly elections in West Bengal, Assam, Kerala, Tamil Nadu and Puducherry, EC had, acting on a complaint from Trinamool Congress, asked petrol pumps to remove all hoardings carrying PM Modi\\'s picture.\\n\\nMoneycontrol News\\n\\nTags:\\n\\n#PM Modi\\n\\nfirst published: Mar 5, 2024 09:51 am\\n\\nbusiness news,\\n\\nSensex, and\\n\\nNifty updates. Obtain\\n\\nPersonal Finance insights, tax queries, and expert opinions on\\n\\nMoneycontrol or download the\\n\\nMoneycontrol App to stay updated!\\n\\nAdvertisement\\n\\nRemove Ad\\n\\nTrending news\\n\\nSaudi Arabia\\'s first male robot inappropriately touches female reporter during live interview. Video\\n\\nThis university in India forgot to conduct an exam after announcing the\\xa0date\\n\\nVideo: 12-year-old boy in Maharashtra locks leopard in room. What happened\\xa0next\\n\\nBengaluru UB City mall charges Rs 1,000 per hour for \\'premium parking\\'. \\'It is\\xa0nuts!\\'\\n\\nBengaluru woman stabs husband in sleep for not getting a wedding anniversary gift: Report\\n\\nAdvisory Alert:\\n\\ngrievanceofficer@nw18.com or call on 02268882347\\n\\nForum\\n\\nFacebook\\n\\nTwitter\\n\\nInstagram\\n\\nLinkedin\\n\\nRSS\\n\\nPortfolio\\n\\nMarkets\\n\\nWatchlist\\n\\nLive TV Show\\n\\nCurrencies\\n\\nCredit Score₹100 Cash Reward\\n\\nCommodities\\n\\nFixed Income\\n\\nPersonal Finance\\n\\nMutual Fund\\n\\nPre-Market\\n\\nIPO\\n\\nGlobal Market\\n\\nBudget 2024\\n\\nGold Rate\\n\\nBSE Sensex\\n\\nForum\\n\\nMC 30\\n\\nNews\\n\\nBusiness\\n\\nMarkets\\n\\nStocks\\n\\nEconomy\\n\\nMutual Funds\\n\\nPersonal Finance\\n\\nIPO News\\n\\nStartups\\n\\nElection 2023\\n\\nElections 2023 in Hindi\\n\\nStocks:\\n\\nA |\\n\\nB |\\n\\nC |\\n\\nD |\\n\\nE |\\n\\nF |\\n\\nG |\\n\\nH |\\n\\nI |\\n\\nJ |\\n\\nK |\\n\\nL |\\n\\nM |\\n\\nN |\\n\\nO |\\n\\nP |\\n\\nQ |\\n\\nR |\\n\\nS |\\n\\nT |\\n\\nU |\\n\\nV |\\n\\nW |\\n\\nX |\\n\\nY |\\n\\nZ |\\n\\nOthers\\n\\nMutual Funds:\\n\\nA \\r\\n             |\\n\\nB \\r\\n             |\\n\\nC \\r\\n             |\\n\\nD \\r\\n             |\\n\\nE \\r\\n             |\\n\\nF \\r\\n             |\\n\\nG \\r\\n             |\\n\\nH \\r\\n             |\\n\\nI \\r\\n             |\\n\\nJ \\r\\n             |\\n\\nK \\r\\n             |\\n\\nL \\r\\n             |\\n\\nM \\r\\n             |\\n\\nN \\r\\n             |\\n\\nO \\r\\n             |\\n\\nP \\r\\n             |\\n\\nQ \\r\\n             |\\n\\nR \\r\\n             |\\n\\nS \\r\\n             |\\n\\nT \\r\\n             |\\n\\nU \\r\\n             |\\n\\nV \\r\\n             |\\n\\nW \\r\\n             |\\n\\nX \\r\\n             |\\n\\nY \\r\\n             |\\n\\nVisit the App Store to see all our apps:\\n\\nDownload from Google Play\\n\\nDownload from APP Store\\n\\nDownload from Windows Phone\\n\\nTools\\n\\nRetirement Planning\\n\\nEMI Calculator\\n\\nSIP Calculator\\n\\nSIP Planner\\n\\nUseful Links\\n\\nCrypto News\\n\\nBank Holidays in India\\n\\nGold Rate Today\\n\\nSilver Rate Today\\n\\nTrending News\\n\\nStartups\\n\\nNational News\\n\\nMC Videos\\n\\nMC You Tube\\n\\nHouse Purchase Index\\n\\nBest Portfolio Manager\\n\\nSmall Savings Schemes\\n\\nBonds\\n\\nTopperLearning\\n\\nClear Study Doubts\\n\\nEducation Franchisee Opportunity\\n\\nSpecials\\n\\nMaster Your Money\\n\\nGame Changers\\n\\nInvestment Watch\\n\\nPowerYourTrade\\n\\nMoneyBhai\\n\\nFocus\\n\\nSME Step Up\\n\\nNetwork 18 Sites\\n\\nNews18\\n\\nFirstpost\\n\\nCNBC TV18\\n\\nNews18 Hindi\\n\\nCricketnext\\n\\nOverdrive\\n\\nTopper Learning\\n\\nAbout us |\\n\\nContact Us |\\n\\nAdvertise with Us |\\n\\nSupport |\\n\\nDisclaimer |\\n\\nPrivacy Policy |\\n\\nCookie Policy |\\n\\nTerms & Conditions |\\n\\nCareers |\\n\\nFinancial Terms (Glossary) |\\n\\nFAQs |\\n\\nSitemap |\\n\\nRSS Feed\\n\\nCopyright © e-Eighteen.com Ltd. All rights reserved. Reproduction of news articles, photos, videos or any other content in whole or in part in any form \\r\\n        or medium without express writtern permission of moneycontrol.com is prohibited.\\n\\nYou got 30 Day’s Trial of\\n\\nGrab it Now\\n\\nAd-Free Experience\\n\\nTop Articles from Financial Times\\n\\nActionable Insights\\n\\nMC Research\\n\\nEconomic Calendar\\n\\n& Many More\\n\\nYou are already a Moneycontrol Pro user.\\n\\nCheck your Credit Score Now!\\n\\nAccess your Detailed Credit Report - absolutely free\\n\\nClick Here\\n\\nChandrima Sanyal'"
            ],
            "application/vnd.google.colaboratory.intrinsic+json": {
              "type": "string"
            }
          },
          "metadata": {},
          "execution_count": 49
        }
      ]
    },
    {
      "cell_type": "markdown",
      "source": [
        "# **Text Preprocessing**"
      ],
      "metadata": {
        "id": "m0UfnPW0vcQh"
      }
    },
    {
      "cell_type": "markdown",
      "source": [
        "## **Text Splitting**"
      ],
      "metadata": {
        "id": "jU094qERv8N_"
      }
    },
    {
      "cell_type": "code",
      "source": [
        "# usign pyhtons strip()\n",
        "text = data[0].page_content\n",
        "\n",
        "# Define separators\n",
        "separators = [\"\\n\\n\", \"\\n\", \" \"]\n",
        "\n",
        "# Initialize a list to store the split segments\n",
        "split_text = []\n",
        "\n",
        "# Split the text using separators\n",
        "for separator in separators:\n",
        "    segments = text.split(separator)\n",
        "\n",
        "    # Remove leading and trailing whitespaces from each segment\n",
        "    cleaned_segments = [segment.strip() for segment in segments]\n",
        "\n",
        "    # Filter out empty segments\n",
        "    non_empty_segments = [segment for segment in cleaned_segments if segment]\n",
        "\n",
        "    split_text.extend(non_empty_segments)\n",
        "\n",
        "print(len(split_text))\n",
        "print(split_text)"
      ],
      "metadata": {
        "colab": {
          "base_uri": "https://localhost:8080/"
        },
        "id": "WnPOmpfRvfJj",
        "outputId": "27dd2b62-de53-4d20-ed6e-238d5ceec460"
      },
      "execution_count": 61,
      "outputs": [
        {
          "output_type": "stream",
          "name": "stdout",
          "text": [
            "1794\n",
            "['English', 'Hindi', 'Gujarati', 'Specials', 'Moneycontrol Trending Stock', 'Infosys\\xa0INE009A01021, INFY, 500209', 'State Bank of India\\xa0INE062A01020, SBIN, 500112', 'Yes Bank\\xa0INE528G01027, YESBANK, 532648', 'Bank Nifty', 'Nifty 500', 'Quotes', 'Mutual Funds', 'Commodities', 'Futures & Options', 'Currency', 'News', 'Cryptocurrency', 'Forum', 'Notices', 'Videos', 'Glossary', 'All', 'Hello, Login Hello, LoginLog-inor Sign-UpMy AccountMy Profile My PortfolioMy WatchlistCredit Score₹100 Cash RewardMy FeedMy MessagesPrice AlertsMy Profile My PROMy PortfolioMy WatchlistCredit Score₹100 Cash RewardMy FeedMy MessagesPrice AlertsLogoutChat with UsDownload AppFollow us on:', 'Premium', 'Advisory Alert!', \"Election 2024MarketsHOMEINDIAN INDICESSTOCK ACTIONAll StatsTop GainersTop LosersOnly BuyersOnly Sellers52 Week High52 Week LowPrice ShockersVolume ShockersMost Active StocksGLOBAL MARKETSUS MARKETSBIG SHARK PORTFOLIOSSTOCK SCANNERECONOMIC CALENDARMARKET ACTIONDashboardF&OFII & DII ActivityCorporate ActionEARNINGSCOMMODITYPRE MARKETRESEARCHAdviceBroker ResearchTechnicalsCURRENCYBONDSWEBINARINTERVIEW SERIESTECHNICAL TRENDSIPOOTHERSCryptocurrencyToolsNewsHOMEPAGEBUSINESSHomeEconomyCompaniesMutual FundsPersonal FinanceIPOStartupsReal EstateSMEGEOGRAPHYIndiaWorldMARKETSHomeStocksTechnical AnalysisEquity ResearchCommodityCurrencyGold RateSilver RateAQISPECIALTrendsLatest NewsOpinionTECHNOLOGYPersonal TechAutoFintechMEDIAPodcastPhotosInfographicsVideosOTHERSMC LearnPoliticsCricketEntertainmentTravelLifestyleHealth and FitnessEducationScienceBooksMC BuzzMC FeaturesTech/StartupsPortfolioWatchlistCommoditiesMutual FundsEXPLOREHomeFind FundTop Ranked FundsPerformance TrackerSIP Performance TrackerETF PerformanceNFOTop Performing CategoriesLearnTOOLSReturns CalculatorLumpsum SIP BalancerDelay Cost CalculatorSIP ReturnMF FORUMTRACKYour MF InvestmentMF PricesMC 30Personal FinanceEXPLOREHomeInvestingInsuranceBankingFinancial PlanningPropertyToolsVideoAsk ExpertExplainerIncome Tax Filing GuideNPSFIXED DEPOSITFixed Deposit Interest CalculatorCorporate DepositsTAXIncome tax Filing GuideIncome Tax CalculatorEmergency Fund CalculatorLOANS & CREDIT CARDSHomeCar Loan CalculatorHome Loan CalculatorEducation Loan CalculatorCredit Card Debit Payoff CalculatorTOOLSProvident Fund CalculatorAssets Allocation PlanningDebt Reduction PlannerDebt Evaluation CalculatorCurrent Expense CalculatorCREDIT SCORE₹100 Cash RewardREAL ESTATE : TRENDS & ANALYTICSMC 30MONEYCONTROL - SECURENOW HEALTH INSURANCE RATINGSGOLD PRICE TODAYUpcoming Chat | Previous TranscriptsAll Schedule | Previous TranscriptForumEXPLORE FORUMHomepageMembership RulesForum TopicsAsk the ExpertTop BoardersUSER PROFILEFORUM TOPICSLatest ThreadsStocksIndexGoldPersonal FinanceJust PostedMF FORUMPOLLSLatest PollsHistorical PollsMarket SentimentsSUPPORTFAQsCode of ConductFeedbackWrite to usVideosVIDEOSHomepageVideos on DemandMarkets with Santo & CJMorning TradeCommodities chat with Manisha GuptaLet`s Talk JobsThe TenantDrive ReportBajar GupshupBits To BillionsPODCASTHomepagePodcast on DemandThe Week on Dalal StreetMarket MinutesMC Special PodcastSimply SavePolicy TalksLIVE TVHindiGujaratiInvest NowInvest in Commercial Real Estate FractionallyPowered By hBits - Fractional Ownership & Investment In Commercial Real EstateOwn a fraction of pre-leased office space with an entry point of 25 lacs.Start generating passive income with up to 10% rental yield and an expected IRR of 18%Invest NowExpert Trading GuidancePowered By Trading Advisories, Courses & Webinars by Top Verified Experts.Unlock Your Trading Potential: Trade like Experts with SEBI registered creators, Learn from Courses & Webinars by India's Finest Finance Experts.Invest NowGo Ad-Free BusinessMarketsStocksEconomyCompaniesTrendsIPOOpinionEV Special\", '>->', 'Go PRO @₹99', 'PRO', 'Election 2024', 'MarketsHOMEINDIAN INDICESSTOCK ACTIONAll StatsTop GainersTop LosersOnly BuyersOnly Sellers52 Week High52 Week LowPrice ShockersVolume ShockersMost Active StocksGLOBAL MARKETSUS MARKETSBIG SHARK PORTFOLIOSSTOCK SCANNERECONOMIC CALENDARMARKET ACTIONDashboardF&OFII & DII ActivityCorporate ActionEARNINGSCOMMODITYPRE MARKETRESEARCHAdviceBroker ResearchTechnicalsCURRENCYBONDSWEBINARINTERVIEW SERIESTECHNICAL TRENDSIPOOTHERSCryptocurrencyTools', 'NewsHOMEPAGEBUSINESSHomeEconomyCompaniesMutual FundsPersonal FinanceIPOStartupsReal EstateSMEGEOGRAPHYIndiaWorldMARKETSHomeStocksTechnical AnalysisEquity ResearchCommodityCurrencyGold RateSilver RateAQISPECIALTrendsLatest NewsOpinionTECHNOLOGYPersonal TechAutoFintechMEDIAPodcastPhotosInfographicsVideosOTHERSMC LearnPoliticsCricketEntertainmentTravelLifestyleHealth and FitnessEducationScienceBooksMC BuzzMC Features', 'Tech/Startups', 'Portfolio', 'Watchlist', 'Commodities', 'Mutual FundsEXPLOREHomeFind FundTop Ranked FundsPerformance TrackerSIP Performance TrackerETF PerformanceNFOTop Performing CategoriesLearnTOOLSReturns CalculatorLumpsum SIP BalancerDelay Cost CalculatorSIP ReturnMF FORUMTRACKYour MF InvestmentMF PricesMC 30', 'Personal FinanceEXPLOREHomeInvestingInsuranceBankingFinancial PlanningPropertyToolsVideoAsk ExpertExplainerIncome Tax Filing GuideNPSFIXED DEPOSITFixed Deposit Interest CalculatorCorporate DepositsTAXIncome tax Filing GuideIncome Tax CalculatorEmergency Fund CalculatorLOANS & CREDIT CARDSHomeCar Loan CalculatorHome Loan CalculatorEducation Loan CalculatorCredit Card Debit Payoff CalculatorTOOLSProvident Fund CalculatorAssets Allocation PlanningDebt Reduction PlannerDebt Evaluation CalculatorCurrent Expense CalculatorCREDIT SCORE₹100 Cash RewardREAL ESTATE : TRENDS & ANALYTICSMC 30MONEYCONTROL - SECURENOW HEALTH INSURANCE RATINGSGOLD PRICE TODAYUpcoming Chat | Previous TranscriptsAll Schedule | Previous Transcript', 'ForumEXPLORE FORUMHomepageMembership RulesForum TopicsAsk the ExpertTop BoardersUSER PROFILEFORUM TOPICSLatest ThreadsStocksIndexGoldPersonal FinanceJust PostedMF FORUMPOLLSLatest PollsHistorical PollsMarket SentimentsSUPPORTFAQsCode of ConductFeedbackWrite to us', 'VideosVIDEOSHomepageVideos on DemandMarkets with Santo & CJMorning TradeCommodities chat with Manisha GuptaLet`s Talk JobsThe TenantDrive ReportBajar GupshupBits To BillionsPODCASTHomepagePodcast on DemandThe Week on Dalal StreetMarket MinutesMC Special PodcastSimply SavePolicy TalksLIVE TVHindiGujarati', \"Invest NowInvest in Commercial Real Estate FractionallyPowered By hBits - Fractional Ownership & Investment In Commercial Real EstateOwn a fraction of pre-leased office space with an entry point of 25 lacs.Start generating passive income with up to 10% rental yield and an expected IRR of 18%Invest NowExpert Trading GuidancePowered By Trading Advisories, Courses & Webinars by Top Verified Experts.Unlock Your Trading Potential: Trade like Experts with SEBI registered creators, Learn from Courses & Webinars by India's Finest Finance Experts.Invest Now\", 'Go Ad-Free', 'Business', 'Markets', 'Stocks', 'Economy', 'Companies', 'Trends', 'IPO', 'Opinion', 'EV Special', 'Home', 'News', 'India', \"Fuel retailers swap central welfare scheme hoardings with 'Modi's Guarantee' at petrol pumps: Report\", 'The move, inspired by the BJP\\'s electoral slogan \"Modi ki Guarantee,\" aims to put special emphasis on PM Narendra Modi\\'s role in enhancing citizens\\' lives.', 'Moneycontrol News', 'March 05, 2024 / 10:48 AM IST', 'The revamped hoardings feature a photo of the PM presenting an LPG cylinder to a beneficiary of the Ujjwala scheme,', 'Fuel retailers are initiating a nationwide overhaul of hoardings at petrol pumps, replacing existing advertisements of central welfare schemes with new ones bearing the slogan \"Modi\\'s guarantee means a better life\", according to a report by TOI.', 'The move, inspired by the BJP\\'s electoral slogan \"Modi ki Guarantee,\" aims to put special emphasis on PM Narendra Modi\\'s role in enhancing citizens\\' lives.', 'Story continues below Advertisement', 'Remove Ad', \"The revamped hoardings feature a photo of the PM presenting an LPG cylinder to a beneficiary of the Ujjwala scheme, a cornerstone of the government's energy justice initiative.\", 'According to industry sources cited by TOI, managers of all petrol pumps have received directives to cooperate in the swift implementation of these changes, with new flex hoardings expected to be in place by Wednesday evening.', 'Additionally, TOI\\xa0mentioned\\xa0that that managers are instructed to notify field officers if hoarding vendors engaged by oil companies fail to report at their retail outlets.', 'Related stories', 'Explained: The Coal Logistics Plan and Policy and why India needs it', 'EAM Jaishankar reveals how PM Modi surprised him with a call to join the government', \"From Kaizen to Make in India: A look at India-Japan ties amid Jaishankar's tour\", 'This initiative, informally nudged by the oil ministry, is anticipated to incur substantial costs for the three major public sector fuel retailers - IndianOil, Hindustan Petroleum, and Bharat Petroleum.', \"Together, these companies manage approximately 90 percent of the country's 88,000 petrol pumps. Each pump typically accommodates at least one hoarding measuring 40*20 in size.\", 'However, these hoardings would be removed once the Election Commission (ECI) announces the schedule for the much-awaited general elections and the model code of conduct comes into force.', 'Story continues below Advertisement', 'Remove Ad', \"Earlier in March 2021, ahead of the assembly elections in West Bengal, Assam, Kerala, Tamil Nadu and Puducherry, EC had, acting on a complaint from Trinamool Congress, asked petrol pumps to remove all hoardings carrying PM Modi's picture.\", 'Moneycontrol News', 'Tags:', '#PM Modi', 'first published: Mar 5, 2024 09:51 am', 'business news,', 'Sensex, and', 'Nifty updates. Obtain', 'Personal Finance insights, tax queries, and expert opinions on', 'Moneycontrol or download the', 'Moneycontrol App to stay updated!', 'Advertisement', 'Remove Ad', 'Trending news', \"Saudi Arabia's first male robot inappropriately touches female reporter during live interview. Video\", 'This university in India forgot to conduct an exam after announcing the\\xa0date', 'Video: 12-year-old boy in Maharashtra locks leopard in room. What happened\\xa0next', \"Bengaluru UB City mall charges Rs 1,000 per hour for 'premium parking'. 'It is\\xa0nuts!'\", 'Bengaluru woman stabs husband in sleep for not getting a wedding anniversary gift: Report', 'Advisory Alert:', 'grievanceofficer@nw18.com or call on 02268882347', 'Forum', 'Facebook', 'Twitter', 'Instagram', 'Linkedin', 'RSS', 'Portfolio', 'Markets', 'Watchlist', 'Live TV Show', 'Currencies', 'Credit Score₹100 Cash Reward', 'Commodities', 'Fixed Income', 'Personal Finance', 'Mutual Fund', 'Pre-Market', 'IPO', 'Global Market', 'Budget 2024', 'Gold Rate', 'BSE Sensex', 'Forum', 'MC 30', 'News', 'Business', 'Markets', 'Stocks', 'Economy', 'Mutual Funds', 'Personal Finance', 'IPO News', 'Startups', 'Election 2023', 'Elections 2023 in Hindi', 'Stocks:', 'A |', 'B |', 'C |', 'D |', 'E |', 'F |', 'G |', 'H |', 'I |', 'J |', 'K |', 'L |', 'M |', 'N |', 'O |', 'P |', 'Q |', 'R |', 'S |', 'T |', 'U |', 'V |', 'W |', 'X |', 'Y |', 'Z |', 'Others', 'Mutual Funds:', 'A \\r\\n             |', 'B \\r\\n             |', 'C \\r\\n             |', 'D \\r\\n             |', 'E \\r\\n             |', 'F \\r\\n             |', 'G \\r\\n             |', 'H \\r\\n             |', 'I \\r\\n             |', 'J \\r\\n             |', 'K \\r\\n             |', 'L \\r\\n             |', 'M \\r\\n             |', 'N \\r\\n             |', 'O \\r\\n             |', 'P \\r\\n             |', 'Q \\r\\n             |', 'R \\r\\n             |', 'S \\r\\n             |', 'T \\r\\n             |', 'U \\r\\n             |', 'V \\r\\n             |', 'W \\r\\n             |', 'X \\r\\n             |', 'Y \\r\\n             |', 'Visit the App Store to see all our apps:', 'Download from Google Play', 'Download from APP Store', 'Download from Windows Phone', 'Tools', 'Retirement Planning', 'EMI Calculator', 'SIP Calculator', 'SIP Planner', 'Useful Links', 'Crypto News', 'Bank Holidays in India', 'Gold Rate Today', 'Silver Rate Today', 'Trending News', 'Startups', 'National News', 'MC Videos', 'MC You Tube', 'House Purchase Index', 'Best Portfolio Manager', 'Small Savings Schemes', 'Bonds', 'TopperLearning', 'Clear Study Doubts', 'Education Franchisee Opportunity', 'Specials', 'Master Your Money', 'Game Changers', 'Investment Watch', 'PowerYourTrade', 'MoneyBhai', 'Focus', 'SME Step Up', 'Network 18 Sites', 'News18', 'Firstpost', 'CNBC TV18', 'News18 Hindi', 'Cricketnext', 'Overdrive', 'Topper Learning', 'About us |', 'Contact Us |', 'Advertise with Us |', 'Support |', 'Disclaimer |', 'Privacy Policy |', 'Cookie Policy |', 'Terms & Conditions |', 'Careers |', 'Financial Terms (Glossary) |', 'FAQs |', 'Sitemap |', 'RSS Feed', 'Copyright © e-Eighteen.com Ltd. All rights reserved. Reproduction of news articles, photos, videos or any other content in whole or in part in any form \\r\\n        or medium without express writtern permission of moneycontrol.com is prohibited.', 'You got 30 Day’s Trial of', 'Grab it Now', 'Ad-Free Experience', 'Top Articles from Financial Times', 'Actionable Insights', 'MC Research', 'Economic Calendar', '& Many More', 'You are already a Moneycontrol Pro user.', 'Check your Credit Score Now!', 'Access your Detailed Credit Report - absolutely free', 'Click Here', 'Chandrima Sanyal', 'English', 'Hindi', 'Gujarati', 'Specials', 'Moneycontrol Trending Stock', 'Infosys\\xa0INE009A01021, INFY, 500209', 'State Bank of India\\xa0INE062A01020, SBIN, 500112', 'Yes Bank\\xa0INE528G01027, YESBANK, 532648', 'Bank Nifty', 'Nifty 500', 'Quotes', 'Mutual Funds', 'Commodities', 'Futures & Options', 'Currency', 'News', 'Cryptocurrency', 'Forum', 'Notices', 'Videos', 'Glossary', 'All', 'Hello, Login Hello, LoginLog-inor Sign-UpMy AccountMy Profile My PortfolioMy WatchlistCredit Score₹100 Cash RewardMy FeedMy MessagesPrice AlertsMy Profile My PROMy PortfolioMy WatchlistCredit Score₹100 Cash RewardMy FeedMy MessagesPrice AlertsLogoutChat with UsDownload AppFollow us on:', 'Premium', 'Advisory Alert!', \"Election 2024MarketsHOMEINDIAN INDICESSTOCK ACTIONAll StatsTop GainersTop LosersOnly BuyersOnly Sellers52 Week High52 Week LowPrice ShockersVolume ShockersMost Active StocksGLOBAL MARKETSUS MARKETSBIG SHARK PORTFOLIOSSTOCK SCANNERECONOMIC CALENDARMARKET ACTIONDashboardF&OFII & DII ActivityCorporate ActionEARNINGSCOMMODITYPRE MARKETRESEARCHAdviceBroker ResearchTechnicalsCURRENCYBONDSWEBINARINTERVIEW SERIESTECHNICAL TRENDSIPOOTHERSCryptocurrencyToolsNewsHOMEPAGEBUSINESSHomeEconomyCompaniesMutual FundsPersonal FinanceIPOStartupsReal EstateSMEGEOGRAPHYIndiaWorldMARKETSHomeStocksTechnical AnalysisEquity ResearchCommodityCurrencyGold RateSilver RateAQISPECIALTrendsLatest NewsOpinionTECHNOLOGYPersonal TechAutoFintechMEDIAPodcastPhotosInfographicsVideosOTHERSMC LearnPoliticsCricketEntertainmentTravelLifestyleHealth and FitnessEducationScienceBooksMC BuzzMC FeaturesTech/StartupsPortfolioWatchlistCommoditiesMutual FundsEXPLOREHomeFind FundTop Ranked FundsPerformance TrackerSIP Performance TrackerETF PerformanceNFOTop Performing CategoriesLearnTOOLSReturns CalculatorLumpsum SIP BalancerDelay Cost CalculatorSIP ReturnMF FORUMTRACKYour MF InvestmentMF PricesMC 30Personal FinanceEXPLOREHomeInvestingInsuranceBankingFinancial PlanningPropertyToolsVideoAsk ExpertExplainerIncome Tax Filing GuideNPSFIXED DEPOSITFixed Deposit Interest CalculatorCorporate DepositsTAXIncome tax Filing GuideIncome Tax CalculatorEmergency Fund CalculatorLOANS & CREDIT CARDSHomeCar Loan CalculatorHome Loan CalculatorEducation Loan CalculatorCredit Card Debit Payoff CalculatorTOOLSProvident Fund CalculatorAssets Allocation PlanningDebt Reduction PlannerDebt Evaluation CalculatorCurrent Expense CalculatorCREDIT SCORE₹100 Cash RewardREAL ESTATE : TRENDS & ANALYTICSMC 30MONEYCONTROL - SECURENOW HEALTH INSURANCE RATINGSGOLD PRICE TODAYUpcoming Chat | Previous TranscriptsAll Schedule | Previous TranscriptForumEXPLORE FORUMHomepageMembership RulesForum TopicsAsk the ExpertTop BoardersUSER PROFILEFORUM TOPICSLatest ThreadsStocksIndexGoldPersonal FinanceJust PostedMF FORUMPOLLSLatest PollsHistorical PollsMarket SentimentsSUPPORTFAQsCode of ConductFeedbackWrite to usVideosVIDEOSHomepageVideos on DemandMarkets with Santo & CJMorning TradeCommodities chat with Manisha GuptaLet`s Talk JobsThe TenantDrive ReportBajar GupshupBits To BillionsPODCASTHomepagePodcast on DemandThe Week on Dalal StreetMarket MinutesMC Special PodcastSimply SavePolicy TalksLIVE TVHindiGujaratiInvest NowInvest in Commercial Real Estate FractionallyPowered By hBits - Fractional Ownership & Investment In Commercial Real EstateOwn a fraction of pre-leased office space with an entry point of 25 lacs.Start generating passive income with up to 10% rental yield and an expected IRR of 18%Invest NowExpert Trading GuidancePowered By Trading Advisories, Courses & Webinars by Top Verified Experts.Unlock Your Trading Potential: Trade like Experts with SEBI registered creators, Learn from Courses & Webinars by India's Finest Finance Experts.Invest NowGo Ad-Free BusinessMarketsStocksEconomyCompaniesTrendsIPOOpinionEV Special\", '>->', 'Go PRO @₹99', 'PRO', 'Election 2024', 'MarketsHOMEINDIAN INDICESSTOCK ACTIONAll StatsTop GainersTop LosersOnly BuyersOnly Sellers52 Week High52 Week LowPrice ShockersVolume ShockersMost Active StocksGLOBAL MARKETSUS MARKETSBIG SHARK PORTFOLIOSSTOCK SCANNERECONOMIC CALENDARMARKET ACTIONDashboardF&OFII & DII ActivityCorporate ActionEARNINGSCOMMODITYPRE MARKETRESEARCHAdviceBroker ResearchTechnicalsCURRENCYBONDSWEBINARINTERVIEW SERIESTECHNICAL TRENDSIPOOTHERSCryptocurrencyTools', 'NewsHOMEPAGEBUSINESSHomeEconomyCompaniesMutual FundsPersonal FinanceIPOStartupsReal EstateSMEGEOGRAPHYIndiaWorldMARKETSHomeStocksTechnical AnalysisEquity ResearchCommodityCurrencyGold RateSilver RateAQISPECIALTrendsLatest NewsOpinionTECHNOLOGYPersonal TechAutoFintechMEDIAPodcastPhotosInfographicsVideosOTHERSMC LearnPoliticsCricketEntertainmentTravelLifestyleHealth and FitnessEducationScienceBooksMC BuzzMC Features', 'Tech/Startups', 'Portfolio', 'Watchlist', 'Commodities', 'Mutual FundsEXPLOREHomeFind FundTop Ranked FundsPerformance TrackerSIP Performance TrackerETF PerformanceNFOTop Performing CategoriesLearnTOOLSReturns CalculatorLumpsum SIP BalancerDelay Cost CalculatorSIP ReturnMF FORUMTRACKYour MF InvestmentMF PricesMC 30', 'Personal FinanceEXPLOREHomeInvestingInsuranceBankingFinancial PlanningPropertyToolsVideoAsk ExpertExplainerIncome Tax Filing GuideNPSFIXED DEPOSITFixed Deposit Interest CalculatorCorporate DepositsTAXIncome tax Filing GuideIncome Tax CalculatorEmergency Fund CalculatorLOANS & CREDIT CARDSHomeCar Loan CalculatorHome Loan CalculatorEducation Loan CalculatorCredit Card Debit Payoff CalculatorTOOLSProvident Fund CalculatorAssets Allocation PlanningDebt Reduction PlannerDebt Evaluation CalculatorCurrent Expense CalculatorCREDIT SCORE₹100 Cash RewardREAL ESTATE : TRENDS & ANALYTICSMC 30MONEYCONTROL - SECURENOW HEALTH INSURANCE RATINGSGOLD PRICE TODAYUpcoming Chat | Previous TranscriptsAll Schedule | Previous Transcript', 'ForumEXPLORE FORUMHomepageMembership RulesForum TopicsAsk the ExpertTop BoardersUSER PROFILEFORUM TOPICSLatest ThreadsStocksIndexGoldPersonal FinanceJust PostedMF FORUMPOLLSLatest PollsHistorical PollsMarket SentimentsSUPPORTFAQsCode of ConductFeedbackWrite to us', 'VideosVIDEOSHomepageVideos on DemandMarkets with Santo & CJMorning TradeCommodities chat with Manisha GuptaLet`s Talk JobsThe TenantDrive ReportBajar GupshupBits To BillionsPODCASTHomepagePodcast on DemandThe Week on Dalal StreetMarket MinutesMC Special PodcastSimply SavePolicy TalksLIVE TVHindiGujarati', \"Invest NowInvest in Commercial Real Estate FractionallyPowered By hBits - Fractional Ownership & Investment In Commercial Real EstateOwn a fraction of pre-leased office space with an entry point of 25 lacs.Start generating passive income with up to 10% rental yield and an expected IRR of 18%Invest NowExpert Trading GuidancePowered By Trading Advisories, Courses & Webinars by Top Verified Experts.Unlock Your Trading Potential: Trade like Experts with SEBI registered creators, Learn from Courses & Webinars by India's Finest Finance Experts.Invest Now\", 'Go Ad-Free', 'Business', 'Markets', 'Stocks', 'Economy', 'Companies', 'Trends', 'IPO', 'Opinion', 'EV Special', 'Home', 'News', 'India', \"Fuel retailers swap central welfare scheme hoardings with 'Modi's Guarantee' at petrol pumps: Report\", 'The move, inspired by the BJP\\'s electoral slogan \"Modi ki Guarantee,\" aims to put special emphasis on PM Narendra Modi\\'s role in enhancing citizens\\' lives.', 'Moneycontrol News', 'March 05, 2024 / 10:48 AM IST', 'The revamped hoardings feature a photo of the PM presenting an LPG cylinder to a beneficiary of the Ujjwala scheme,', 'Fuel retailers are initiating a nationwide overhaul of hoardings at petrol pumps, replacing existing advertisements of central welfare schemes with new ones bearing the slogan \"Modi\\'s guarantee means a better life\", according to a report by TOI.', 'The move, inspired by the BJP\\'s electoral slogan \"Modi ki Guarantee,\" aims to put special emphasis on PM Narendra Modi\\'s role in enhancing citizens\\' lives.', 'Story continues below Advertisement', 'Remove Ad', \"The revamped hoardings feature a photo of the PM presenting an LPG cylinder to a beneficiary of the Ujjwala scheme, a cornerstone of the government's energy justice initiative.\", 'According to industry sources cited by TOI, managers of all petrol pumps have received directives to cooperate in the swift implementation of these changes, with new flex hoardings expected to be in place by Wednesday evening.', 'Additionally, TOI\\xa0mentioned\\xa0that that managers are instructed to notify field officers if hoarding vendors engaged by oil companies fail to report at their retail outlets.', 'Related stories', 'Explained: The Coal Logistics Plan and Policy and why India needs it', 'EAM Jaishankar reveals how PM Modi surprised him with a call to join the government', \"From Kaizen to Make in India: A look at India-Japan ties amid Jaishankar's tour\", 'This initiative, informally nudged by the oil ministry, is anticipated to incur substantial costs for the three major public sector fuel retailers - IndianOil, Hindustan Petroleum, and Bharat Petroleum.', \"Together, these companies manage approximately 90 percent of the country's 88,000 petrol pumps. Each pump typically accommodates at least one hoarding measuring 40*20 in size.\", 'However, these hoardings would be removed once the Election Commission (ECI) announces the schedule for the much-awaited general elections and the model code of conduct comes into force.', 'Story continues below Advertisement', 'Remove Ad', \"Earlier in March 2021, ahead of the assembly elections in West Bengal, Assam, Kerala, Tamil Nadu and Puducherry, EC had, acting on a complaint from Trinamool Congress, asked petrol pumps to remove all hoardings carrying PM Modi's picture.\", 'Moneycontrol News', 'Tags:', '#PM Modi', 'first published: Mar 5, 2024 09:51 am', 'business news,', 'Sensex, and', 'Nifty updates. Obtain', 'Personal Finance insights, tax queries, and expert opinions on', 'Moneycontrol or download the', 'Moneycontrol App to stay updated!', 'Advertisement', 'Remove Ad', 'Trending news', \"Saudi Arabia's first male robot inappropriately touches female reporter during live interview. Video\", 'This university in India forgot to conduct an exam after announcing the\\xa0date', 'Video: 12-year-old boy in Maharashtra locks leopard in room. What happened\\xa0next', \"Bengaluru UB City mall charges Rs 1,000 per hour for 'premium parking'. 'It is\\xa0nuts!'\", 'Bengaluru woman stabs husband in sleep for not getting a wedding anniversary gift: Report', 'Advisory Alert:', 'grievanceofficer@nw18.com or call on 02268882347', 'Forum', 'Facebook', 'Twitter', 'Instagram', 'Linkedin', 'RSS', 'Portfolio', 'Markets', 'Watchlist', 'Live TV Show', 'Currencies', 'Credit Score₹100 Cash Reward', 'Commodities', 'Fixed Income', 'Personal Finance', 'Mutual Fund', 'Pre-Market', 'IPO', 'Global Market', 'Budget 2024', 'Gold Rate', 'BSE Sensex', 'Forum', 'MC 30', 'News', 'Business', 'Markets', 'Stocks', 'Economy', 'Mutual Funds', 'Personal Finance', 'IPO News', 'Startups', 'Election 2023', 'Elections 2023 in Hindi', 'Stocks:', 'A |', 'B |', 'C |', 'D |', 'E |', 'F |', 'G |', 'H |', 'I |', 'J |', 'K |', 'L |', 'M |', 'N |', 'O |', 'P |', 'Q |', 'R |', 'S |', 'T |', 'U |', 'V |', 'W |', 'X |', 'Y |', 'Z |', 'Others', 'Mutual Funds:', 'A', '|', 'B', '|', 'C', '|', 'D', '|', 'E', '|', 'F', '|', 'G', '|', 'H', '|', 'I', '|', 'J', '|', 'K', '|', 'L', '|', 'M', '|', 'N', '|', 'O', '|', 'P', '|', 'Q', '|', 'R', '|', 'S', '|', 'T', '|', 'U', '|', 'V', '|', 'W', '|', 'X', '|', 'Y', '|', 'Visit the App Store to see all our apps:', 'Download from Google Play', 'Download from APP Store', 'Download from Windows Phone', 'Tools', 'Retirement Planning', 'EMI Calculator', 'SIP Calculator', 'SIP Planner', 'Useful Links', 'Crypto News', 'Bank Holidays in India', 'Gold Rate Today', 'Silver Rate Today', 'Trending News', 'Startups', 'National News', 'MC Videos', 'MC You Tube', 'House Purchase Index', 'Best Portfolio Manager', 'Small Savings Schemes', 'Bonds', 'TopperLearning', 'Clear Study Doubts', 'Education Franchisee Opportunity', 'Specials', 'Master Your Money', 'Game Changers', 'Investment Watch', 'PowerYourTrade', 'MoneyBhai', 'Focus', 'SME Step Up', 'Network 18 Sites', 'News18', 'Firstpost', 'CNBC TV18', 'News18 Hindi', 'Cricketnext', 'Overdrive', 'Topper Learning', 'About us |', 'Contact Us |', 'Advertise with Us |', 'Support |', 'Disclaimer |', 'Privacy Policy |', 'Cookie Policy |', 'Terms & Conditions |', 'Careers |', 'Financial Terms (Glossary) |', 'FAQs |', 'Sitemap |', 'RSS Feed', 'Copyright © e-Eighteen.com Ltd. All rights reserved. Reproduction of news articles, photos, videos or any other content in whole or in part in any form', 'or medium without express writtern permission of moneycontrol.com is prohibited.', 'You got 30 Day’s Trial of', 'Grab it Now', 'Ad-Free Experience', 'Top Articles from Financial Times', 'Actionable Insights', 'MC Research', 'Economic Calendar', '& Many More', 'You are already a Moneycontrol Pro user.', 'Check your Credit Score Now!', 'Access your Detailed Credit Report - absolutely free', 'Click Here', 'Chandrima Sanyal', 'English\\n\\nHindi\\n\\nGujarati\\n\\nSpecials\\n\\nMoneycontrol', 'Trending', 'Stock\\n\\nInfosys\\xa0INE009A01021,', 'INFY,', '500209\\n\\nState', 'Bank', 'of', 'India\\xa0INE062A01020,', 'SBIN,', '500112\\n\\nYes', 'Bank\\xa0INE528G01027,', 'YESBANK,', '532648\\n\\nBank', 'Nifty\\n\\nNifty', '500\\n\\nQuotes\\n\\nMutual', 'Funds\\n\\nCommodities\\n\\nFutures', '&', 'Options\\n\\nCurrency\\n\\nNews\\n\\nCryptocurrency\\n\\nForum\\n\\nNotices\\n\\nVideos\\n\\nGlossary\\n\\nAll\\n\\nHello,', 'Login', 'Hello,', 'LoginLog-inor', 'Sign-UpMy', 'AccountMy', 'Profile', 'My', 'PortfolioMy', 'WatchlistCredit', 'Score₹100', 'Cash', 'RewardMy', 'FeedMy', 'MessagesPrice', 'AlertsMy', 'Profile', 'My', 'PROMy', 'PortfolioMy', 'WatchlistCredit', 'Score₹100', 'Cash', 'RewardMy', 'FeedMy', 'MessagesPrice', 'AlertsLogoutChat', 'with', 'UsDownload', 'AppFollow', 'us', 'on:\\n\\nPremium\\n\\nAdvisory', 'Alert!\\n\\nElection', '2024MarketsHOMEINDIAN', 'INDICESSTOCK', 'ACTIONAll', 'StatsTop', 'GainersTop', 'LosersOnly', 'BuyersOnly', 'Sellers52', 'Week', 'High52', 'Week', 'LowPrice', 'ShockersVolume', 'ShockersMost', 'Active', 'StocksGLOBAL', 'MARKETSUS', 'MARKETSBIG', 'SHARK', 'PORTFOLIOSSTOCK', 'SCANNERECONOMIC', 'CALENDARMARKET', 'ACTIONDashboardF&OFII', '&', 'DII', 'ActivityCorporate', 'ActionEARNINGSCOMMODITYPRE', 'MARKETRESEARCHAdviceBroker', 'ResearchTechnicalsCURRENCYBONDSWEBINARINTERVIEW', 'SERIESTECHNICAL', 'TRENDSIPOOTHERSCryptocurrencyToolsNewsHOMEPAGEBUSINESSHomeEconomyCompaniesMutual', 'FundsPersonal', 'FinanceIPOStartupsReal', 'EstateSMEGEOGRAPHYIndiaWorldMARKETSHomeStocksTechnical', 'AnalysisEquity', 'ResearchCommodityCurrencyGold', 'RateSilver', 'RateAQISPECIALTrendsLatest', 'NewsOpinionTECHNOLOGYPersonal', 'TechAutoFintechMEDIAPodcastPhotosInfographicsVideosOTHERSMC', 'LearnPoliticsCricketEntertainmentTravelLifestyleHealth', 'and', 'FitnessEducationScienceBooksMC', 'BuzzMC', 'FeaturesTech/StartupsPortfolioWatchlistCommoditiesMutual', 'FundsEXPLOREHomeFind', 'FundTop', 'Ranked', 'FundsPerformance', 'TrackerSIP', 'Performance', 'TrackerETF', 'PerformanceNFOTop', 'Performing', 'CategoriesLearnTOOLSReturns', 'CalculatorLumpsum', 'SIP', 'BalancerDelay', 'Cost', 'CalculatorSIP', 'ReturnMF', 'FORUMTRACKYour', 'MF', 'InvestmentMF', 'PricesMC', '30Personal', 'FinanceEXPLOREHomeInvestingInsuranceBankingFinancial', 'PlanningPropertyToolsVideoAsk', 'ExpertExplainerIncome', 'Tax', 'Filing', 'GuideNPSFIXED', 'DEPOSITFixed', 'Deposit', 'Interest', 'CalculatorCorporate', 'DepositsTAXIncome', 'tax', 'Filing', 'GuideIncome', 'Tax', 'CalculatorEmergency', 'Fund', 'CalculatorLOANS', '&', 'CREDIT', 'CARDSHomeCar', 'Loan', 'CalculatorHome', 'Loan', 'CalculatorEducation', 'Loan', 'CalculatorCredit', 'Card', 'Debit', 'Payoff', 'CalculatorTOOLSProvident', 'Fund', 'CalculatorAssets', 'Allocation', 'PlanningDebt', 'Reduction', 'PlannerDebt', 'Evaluation', 'CalculatorCurrent', 'Expense', 'CalculatorCREDIT', 'SCORE₹100', 'Cash', 'RewardREAL', 'ESTATE', ':', 'TRENDS', '&', 'ANALYTICSMC', '30MONEYCONTROL', '-', 'SECURENOW', 'HEALTH', 'INSURANCE', 'RATINGSGOLD', 'PRICE', 'TODAYUpcoming', 'Chat', '|', 'Previous', 'TranscriptsAll', 'Schedule', '|', 'Previous', 'TranscriptForumEXPLORE', 'FORUMHomepageMembership', 'RulesForum', 'TopicsAsk', 'the', 'ExpertTop', 'BoardersUSER', 'PROFILEFORUM', 'TOPICSLatest', 'ThreadsStocksIndexGoldPersonal', 'FinanceJust', 'PostedMF', 'FORUMPOLLSLatest', 'PollsHistorical', 'PollsMarket', 'SentimentsSUPPORTFAQsCode', 'of', 'ConductFeedbackWrite', 'to', 'usVideosVIDEOSHomepageVideos', 'on', 'DemandMarkets', 'with', 'Santo', '&', 'CJMorning', 'TradeCommodities', 'chat', 'with', 'Manisha', 'GuptaLet`s', 'Talk', 'JobsThe', 'TenantDrive', 'ReportBajar', 'GupshupBits', 'To', 'BillionsPODCASTHomepagePodcast', 'on', 'DemandThe', 'Week', 'on', 'Dalal', 'StreetMarket', 'MinutesMC', 'Special', 'PodcastSimply', 'SavePolicy', 'TalksLIVE', 'TVHindiGujaratiInvest', 'NowInvest', 'in', 'Commercial', 'Real', 'Estate', 'FractionallyPowered', 'By', 'hBits', '-', 'Fractional', 'Ownership', '&', 'Investment', 'In', 'Commercial', 'Real', 'EstateOwn', 'a', 'fraction', 'of', 'pre-leased', 'office', 'space', 'with', 'an', 'entry', 'point', 'of', '25', 'lacs.Start', 'generating', 'passive', 'income', 'with', 'up', 'to', '10%', 'rental', 'yield', 'and', 'an', 'expected', 'IRR', 'of', '18%Invest', 'NowExpert', 'Trading', 'GuidancePowered', 'By', 'Trading', 'Advisories,', 'Courses', '&', 'Webinars', 'by', 'Top', 'Verified', 'Experts.Unlock', 'Your', 'Trading', 'Potential:', 'Trade', 'like', 'Experts', 'with', 'SEBI', 'registered', 'creators,', 'Learn', 'from', 'Courses', '&', 'Webinars', 'by', \"India's\", 'Finest', 'Finance', 'Experts.Invest', 'NowGo', 'Ad-Free', 'BusinessMarketsStocksEconomyCompaniesTrendsIPOOpinionEV', 'Special\\n\\n>->\\n\\nGo', 'PRO', '@₹99\\n\\nPRO\\n\\n\\n\\nElection', '2024\\n\\nMarketsHOMEINDIAN', 'INDICESSTOCK', 'ACTIONAll', 'StatsTop', 'GainersTop', 'LosersOnly', 'BuyersOnly', 'Sellers52', 'Week', 'High52', 'Week', 'LowPrice', 'ShockersVolume', 'ShockersMost', 'Active', 'StocksGLOBAL', 'MARKETSUS', 'MARKETSBIG', 'SHARK', 'PORTFOLIOSSTOCK', 'SCANNERECONOMIC', 'CALENDARMARKET', 'ACTIONDashboardF&OFII', '&', 'DII', 'ActivityCorporate', 'ActionEARNINGSCOMMODITYPRE', 'MARKETRESEARCHAdviceBroker', 'ResearchTechnicalsCURRENCYBONDSWEBINARINTERVIEW', 'SERIESTECHNICAL', 'TRENDSIPOOTHERSCryptocurrencyTools\\n\\nNewsHOMEPAGEBUSINESSHomeEconomyCompaniesMutual', 'FundsPersonal', 'FinanceIPOStartupsReal', 'EstateSMEGEOGRAPHYIndiaWorldMARKETSHomeStocksTechnical', 'AnalysisEquity', 'ResearchCommodityCurrencyGold', 'RateSilver', 'RateAQISPECIALTrendsLatest', 'NewsOpinionTECHNOLOGYPersonal', 'TechAutoFintechMEDIAPodcastPhotosInfographicsVideosOTHERSMC', 'LearnPoliticsCricketEntertainmentTravelLifestyleHealth', 'and', 'FitnessEducationScienceBooksMC', 'BuzzMC', 'Features\\n\\nTech/Startups\\n\\nPortfolio\\n\\nWatchlist\\n\\nCommodities\\n\\nMutual', 'FundsEXPLOREHomeFind', 'FundTop', 'Ranked', 'FundsPerformance', 'TrackerSIP', 'Performance', 'TrackerETF', 'PerformanceNFOTop', 'Performing', 'CategoriesLearnTOOLSReturns', 'CalculatorLumpsum', 'SIP', 'BalancerDelay', 'Cost', 'CalculatorSIP', 'ReturnMF', 'FORUMTRACKYour', 'MF', 'InvestmentMF', 'PricesMC', '30\\n\\nPersonal', 'FinanceEXPLOREHomeInvestingInsuranceBankingFinancial', 'PlanningPropertyToolsVideoAsk', 'ExpertExplainerIncome', 'Tax', 'Filing', 'GuideNPSFIXED', 'DEPOSITFixed', 'Deposit', 'Interest', 'CalculatorCorporate', 'DepositsTAXIncome', 'tax', 'Filing', 'GuideIncome', 'Tax', 'CalculatorEmergency', 'Fund', 'CalculatorLOANS', '&', 'CREDIT', 'CARDSHomeCar', 'Loan', 'CalculatorHome', 'Loan', 'CalculatorEducation', 'Loan', 'CalculatorCredit', 'Card', 'Debit', 'Payoff', 'CalculatorTOOLSProvident', 'Fund', 'CalculatorAssets', 'Allocation', 'PlanningDebt', 'Reduction', 'PlannerDebt', 'Evaluation', 'CalculatorCurrent', 'Expense', 'CalculatorCREDIT', 'SCORE₹100', 'Cash', 'RewardREAL', 'ESTATE', ':', 'TRENDS', '&', 'ANALYTICSMC', '30MONEYCONTROL', '-', 'SECURENOW', 'HEALTH', 'INSURANCE', 'RATINGSGOLD', 'PRICE', 'TODAYUpcoming', 'Chat', '|', 'Previous', 'TranscriptsAll', 'Schedule', '|', 'Previous', 'Transcript\\n\\nForumEXPLORE', 'FORUMHomepageMembership', 'RulesForum', 'TopicsAsk', 'the', 'ExpertTop', 'BoardersUSER', 'PROFILEFORUM', 'TOPICSLatest', 'ThreadsStocksIndexGoldPersonal', 'FinanceJust', 'PostedMF', 'FORUMPOLLSLatest', 'PollsHistorical', 'PollsMarket', 'SentimentsSUPPORTFAQsCode', 'of', 'ConductFeedbackWrite', 'to', 'us\\n\\nVideosVIDEOSHomepageVideos', 'on', 'DemandMarkets', 'with', 'Santo', '&', 'CJMorning', 'TradeCommodities', 'chat', 'with', 'Manisha', 'GuptaLet`s', 'Talk', 'JobsThe', 'TenantDrive', 'ReportBajar', 'GupshupBits', 'To', 'BillionsPODCASTHomepagePodcast', 'on', 'DemandThe', 'Week', 'on', 'Dalal', 'StreetMarket', 'MinutesMC', 'Special', 'PodcastSimply', 'SavePolicy', 'TalksLIVE', 'TVHindiGujarati\\n\\nInvest', 'NowInvest', 'in', 'Commercial', 'Real', 'Estate', 'FractionallyPowered', 'By', 'hBits', '-', 'Fractional', 'Ownership', '&', 'Investment', 'In', 'Commercial', 'Real', 'EstateOwn', 'a', 'fraction', 'of', 'pre-leased', 'office', 'space', 'with', 'an', 'entry', 'point', 'of', '25', 'lacs.Start', 'generating', 'passive', 'income', 'with', 'up', 'to', '10%', 'rental', 'yield', 'and', 'an', 'expected', 'IRR', 'of', '18%Invest', 'NowExpert', 'Trading', 'GuidancePowered', 'By', 'Trading', 'Advisories,', 'Courses', '&', 'Webinars', 'by', 'Top', 'Verified', 'Experts.Unlock', 'Your', 'Trading', 'Potential:', 'Trade', 'like', 'Experts', 'with', 'SEBI', 'registered', 'creators,', 'Learn', 'from', 'Courses', '&', 'Webinars', 'by', \"India's\", 'Finest', 'Finance', 'Experts.Invest', 'Now\\n\\nGo', 'Ad-Free\\n\\nBusiness\\n\\nMarkets\\n\\nStocks\\n\\nEconomy\\n\\nCompanies\\n\\nTrends\\n\\nIPO\\n\\nOpinion\\n\\nEV', 'Special\\n\\nHome\\n\\nNews\\n\\nIndia\\n\\nFuel', 'retailers', 'swap', 'central', 'welfare', 'scheme', 'hoardings', 'with', \"'Modi's\", \"Guarantee'\", 'at', 'petrol', 'pumps:', 'Report\\n\\nThe', 'move,', 'inspired', 'by', 'the', \"BJP's\", 'electoral', 'slogan', '\"Modi', 'ki', 'Guarantee,\"', 'aims', 'to', 'put', 'special', 'emphasis', 'on', 'PM', 'Narendra', \"Modi's\", 'role', 'in', 'enhancing', \"citizens'\", 'lives.\\n\\nMoneycontrol', 'News\\n\\nMarch', '05,', '2024', '/', '10:48', 'AM', 'IST\\n\\n\\n\\n\\n\\n\\n\\n\\n\\n\\n\\n\\n\\nThe', 'revamped', 'hoardings', 'feature', 'a', 'photo', 'of', 'the', 'PM', 'presenting', 'an', 'LPG', 'cylinder', 'to', 'a', 'beneficiary', 'of', 'the', 'Ujjwala', 'scheme,\\n\\nFuel', 'retailers', 'are', 'initiating', 'a', 'nationwide', 'overhaul', 'of', 'hoardings', 'at', 'petrol', 'pumps,', 'replacing', 'existing', 'advertisements', 'of', 'central', 'welfare', 'schemes', 'with', 'new', 'ones', 'bearing', 'the', 'slogan', '\"Modi\\'s', 'guarantee', 'means', 'a', 'better', 'life\",', 'according', 'to', 'a', 'report', 'by', 'TOI.\\n\\nThe', 'move,', 'inspired', 'by', 'the', \"BJP's\", 'electoral', 'slogan', '\"Modi', 'ki', 'Guarantee,\"', 'aims', 'to', 'put', 'special', 'emphasis', 'on', 'PM', 'Narendra', \"Modi's\", 'role', 'in', 'enhancing', \"citizens'\", 'lives.\\n\\nStory', 'continues', 'below', 'Advertisement\\n\\nRemove', 'Ad\\n\\nThe', 'revamped', 'hoardings', 'feature', 'a', 'photo', 'of', 'the', 'PM', 'presenting', 'an', 'LPG', 'cylinder', 'to', 'a', 'beneficiary', 'of', 'the', 'Ujjwala', 'scheme,', 'a', 'cornerstone', 'of', 'the', \"government's\", 'energy', 'justice', 'initiative.\\n\\nAccording', 'to', 'industry', 'sources', 'cited', 'by', 'TOI,', 'managers', 'of', 'all', 'petrol', 'pumps', 'have', 'received', 'directives', 'to', 'cooperate', 'in', 'the', 'swift', 'implementation', 'of', 'these', 'changes,', 'with', 'new', 'flex', 'hoardings', 'expected', 'to', 'be', 'in', 'place', 'by', 'Wednesday', 'evening.\\n\\nAdditionally,', 'TOI\\xa0mentioned\\xa0that', 'that', 'managers', 'are', 'instructed', 'to', 'notify', 'field', 'officers', 'if', 'hoarding', 'vendors', 'engaged', 'by', 'oil', 'companies', 'fail', 'to', 'report', 'at', 'their', 'retail', 'outlets.\\n\\nRelated', 'stories\\n\\nExplained:', 'The', 'Coal', 'Logistics', 'Plan', 'and', 'Policy', 'and', 'why', 'India', 'needs', 'it\\n\\nEAM', 'Jaishankar', 'reveals', 'how', 'PM', 'Modi', 'surprised', 'him', 'with', 'a', 'call', 'to', 'join', 'the', 'government\\n\\nFrom', 'Kaizen', 'to', 'Make', 'in', 'India:', 'A', 'look', 'at', 'India-Japan', 'ties', 'amid', \"Jaishankar's\", 'tour\\n\\nThis', 'initiative,', 'informally', 'nudged', 'by', 'the', 'oil', 'ministry,', 'is', 'anticipated', 'to', 'incur', 'substantial', 'costs', 'for', 'the', 'three', 'major', 'public', 'sector', 'fuel', 'retailers', '-', 'IndianOil,', 'Hindustan', 'Petroleum,', 'and', 'Bharat', 'Petroleum.\\n\\nTogether,', 'these', 'companies', 'manage', 'approximately', '90', 'percent', 'of', 'the', \"country's\", '88,000', 'petrol', 'pumps.', 'Each', 'pump', 'typically', 'accommodates', 'at', 'least', 'one', 'hoarding', 'measuring', '40*20', 'in', 'size.\\n\\nHowever,', 'these', 'hoardings', 'would', 'be', 'removed', 'once', 'the', 'Election', 'Commission', '(ECI)', 'announces', 'the', 'schedule', 'for', 'the', 'much-awaited', 'general', 'elections', 'and', 'the', 'model', 'code', 'of', 'conduct', 'comes', 'into', 'force.\\n\\nStory', 'continues', 'below', 'Advertisement\\n\\nRemove', 'Ad\\n\\nEarlier', 'in', 'March', '2021,', 'ahead', 'of', 'the', 'assembly', 'elections', 'in', 'West', 'Bengal,', 'Assam,', 'Kerala,', 'Tamil', 'Nadu', 'and', 'Puducherry,', 'EC', 'had,', 'acting', 'on', 'a', 'complaint', 'from', 'Trinamool', 'Congress,', 'asked', 'petrol', 'pumps', 'to', 'remove', 'all', 'hoardings', 'carrying', 'PM', \"Modi's\", 'picture.\\n\\nMoneycontrol', 'News\\n\\nTags:\\n\\n#PM', 'Modi\\n\\nfirst', 'published:', 'Mar', '5,', '2024', '09:51', 'am\\n\\nbusiness', 'news,\\n\\nSensex,', 'and\\n\\nNifty', 'updates.', 'Obtain\\n\\nPersonal', 'Finance', 'insights,', 'tax', 'queries,', 'and', 'expert', 'opinions', 'on\\n\\nMoneycontrol', 'or', 'download', 'the\\n\\nMoneycontrol', 'App', 'to', 'stay', 'updated!\\n\\nAdvertisement\\n\\nRemove', 'Ad\\n\\nTrending', 'news\\n\\nSaudi', \"Arabia's\", 'first', 'male', 'robot', 'inappropriately', 'touches', 'female', 'reporter', 'during', 'live', 'interview.', 'Video\\n\\nThis', 'university', 'in', 'India', 'forgot', 'to', 'conduct', 'an', 'exam', 'after', 'announcing', 'the\\xa0date\\n\\nVideo:', '12-year-old', 'boy', 'in', 'Maharashtra', 'locks', 'leopard', 'in', 'room.', 'What', 'happened\\xa0next\\n\\nBengaluru', 'UB', 'City', 'mall', 'charges', 'Rs', '1,000', 'per', 'hour', 'for', \"'premium\", \"parking'.\", \"'It\", \"is\\xa0nuts!'\\n\\nBengaluru\", 'woman', 'stabs', 'husband', 'in', 'sleep', 'for', 'not', 'getting', 'a', 'wedding', 'anniversary', 'gift:', 'Report\\n\\nAdvisory', 'Alert:\\n\\ngrievanceofficer@nw18.com', 'or', 'call', 'on', '02268882347\\n\\nForum\\n\\nFacebook\\n\\nTwitter\\n\\nInstagram\\n\\nLinkedin\\n\\nRSS\\n\\nPortfolio\\n\\nMarkets\\n\\nWatchlist\\n\\nLive', 'TV', 'Show\\n\\nCurrencies\\n\\nCredit', 'Score₹100', 'Cash', 'Reward\\n\\nCommodities\\n\\nFixed', 'Income\\n\\nPersonal', 'Finance\\n\\nMutual', 'Fund\\n\\nPre-Market\\n\\nIPO\\n\\nGlobal', 'Market\\n\\nBudget', '2024\\n\\nGold', 'Rate\\n\\nBSE', 'Sensex\\n\\nForum\\n\\nMC', '30\\n\\nNews\\n\\nBusiness\\n\\nMarkets\\n\\nStocks\\n\\nEconomy\\n\\nMutual', 'Funds\\n\\nPersonal', 'Finance\\n\\nIPO', 'News\\n\\nStartups\\n\\nElection', '2023\\n\\nElections', '2023', 'in', 'Hindi\\n\\nStocks:\\n\\nA', '|\\n\\nB', '|\\n\\nC', '|\\n\\nD', '|\\n\\nE', '|\\n\\nF', '|\\n\\nG', '|\\n\\nH', '|\\n\\nI', '|\\n\\nJ', '|\\n\\nK', '|\\n\\nL', '|\\n\\nM', '|\\n\\nN', '|\\n\\nO', '|\\n\\nP', '|\\n\\nQ', '|\\n\\nR', '|\\n\\nS', '|\\n\\nT', '|\\n\\nU', '|\\n\\nV', '|\\n\\nW', '|\\n\\nX', '|\\n\\nY', '|\\n\\nZ', '|\\n\\nOthers\\n\\nMutual', 'Funds:\\n\\nA', '|\\n\\nB', '|\\n\\nC', '|\\n\\nD', '|\\n\\nE', '|\\n\\nF', '|\\n\\nG', '|\\n\\nH', '|\\n\\nI', '|\\n\\nJ', '|\\n\\nK', '|\\n\\nL', '|\\n\\nM', '|\\n\\nN', '|\\n\\nO', '|\\n\\nP', '|\\n\\nQ', '|\\n\\nR', '|\\n\\nS', '|\\n\\nT', '|\\n\\nU', '|\\n\\nV', '|\\n\\nW', '|\\n\\nX', '|\\n\\nY', '|\\n\\nVisit', 'the', 'App', 'Store', 'to', 'see', 'all', 'our', 'apps:\\n\\nDownload', 'from', 'Google', 'Play\\n\\nDownload', 'from', 'APP', 'Store\\n\\nDownload', 'from', 'Windows', 'Phone\\n\\nTools\\n\\nRetirement', 'Planning\\n\\nEMI', 'Calculator\\n\\nSIP', 'Calculator\\n\\nSIP', 'Planner\\n\\nUseful', 'Links\\n\\nCrypto', 'News\\n\\nBank', 'Holidays', 'in', 'India\\n\\nGold', 'Rate', 'Today\\n\\nSilver', 'Rate', 'Today\\n\\nTrending', 'News\\n\\nStartups\\n\\nNational', 'News\\n\\nMC', 'Videos\\n\\nMC', 'You', 'Tube\\n\\nHouse', 'Purchase', 'Index\\n\\nBest', 'Portfolio', 'Manager\\n\\nSmall', 'Savings', 'Schemes\\n\\nBonds\\n\\nTopperLearning\\n\\nClear', 'Study', 'Doubts\\n\\nEducation', 'Franchisee', 'Opportunity\\n\\nSpecials\\n\\nMaster', 'Your', 'Money\\n\\nGame', 'Changers\\n\\nInvestment', 'Watch\\n\\nPowerYourTrade\\n\\nMoneyBhai\\n\\nFocus\\n\\nSME', 'Step', 'Up\\n\\nNetwork', '18', 'Sites\\n\\nNews18\\n\\nFirstpost\\n\\nCNBC', 'TV18\\n\\nNews18', 'Hindi\\n\\nCricketnext\\n\\nOverdrive\\n\\nTopper', 'Learning\\n\\nAbout', 'us', '|\\n\\nContact', 'Us', '|\\n\\nAdvertise', 'with', 'Us', '|\\n\\nSupport', '|\\n\\nDisclaimer', '|\\n\\nPrivacy', 'Policy', '|\\n\\nCookie', 'Policy', '|\\n\\nTerms', '&', 'Conditions', '|\\n\\nCareers', '|\\n\\nFinancial', 'Terms', '(Glossary)', '|\\n\\nFAQs', '|\\n\\nSitemap', '|\\n\\nRSS', 'Feed\\n\\nCopyright', '©', 'e-Eighteen.com', 'Ltd.', 'All', 'rights', 'reserved.', 'Reproduction', 'of', 'news', 'articles,', 'photos,', 'videos', 'or', 'any', 'other', 'content', 'in', 'whole', 'or', 'in', 'part', 'in', 'any', 'form', 'or', 'medium', 'without', 'express', 'writtern', 'permission', 'of', 'moneycontrol.com', 'is', 'prohibited.\\n\\nYou', 'got', '30', 'Day’s', 'Trial', 'of\\n\\nGrab', 'it', 'Now\\n\\nAd-Free', 'Experience\\n\\nTop', 'Articles', 'from', 'Financial', 'Times\\n\\nActionable', 'Insights\\n\\nMC', 'Research\\n\\nEconomic', 'Calendar\\n\\n&', 'Many', 'More\\n\\nYou', 'are', 'already', 'a', 'Moneycontrol', 'Pro', 'user.\\n\\nCheck', 'your', 'Credit', 'Score', 'Now!\\n\\nAccess', 'your', 'Detailed', 'Credit', 'Report', '-', 'absolutely', 'free\\n\\nClick', 'Here\\n\\nChandrima', 'Sanyal']\n"
          ]
        }
      ]
    },
    {
      "cell_type": "code",
      "source": [
        "# Using langchain lib\n",
        "from langchain.text_splitter import RecursiveCharacterTextSplitter\n",
        "\n",
        "r_splitter = RecursiveCharacterTextSplitter(\n",
        "    separators = [\"\\n\\n\", \"\\n\", \" \"],\n",
        "    chunk_size = 1000,\n",
        "    chunk_overlap  = 200,\n",
        "    length_function = len\n",
        ")"
      ],
      "metadata": {
        "id": "NnsT0zhx0BdK"
      },
      "execution_count": 65,
      "outputs": []
    },
    {
      "cell_type": "code",
      "source": [
        "split_text_lang = data[0].page_content\n",
        "chunks = r_splitter.split_text(split_text_lang)\n",
        "\n",
        "# for chunk in chunks:\n",
        "#     print((chunk))\n",
        "#     print(\"\\n\")\n",
        "len(chunks)"
      ],
      "metadata": {
        "colab": {
          "base_uri": "https://localhost:8080/"
        },
        "id": "ZsBjlgJj0aRB",
        "outputId": "04150636-5754-450f-b3ea-44b0beea4a14"
      },
      "execution_count": 66,
      "outputs": [
        {
          "output_type": "execute_result",
          "data": {
            "text/plain": [
              "17"
            ]
          },
          "metadata": {},
          "execution_count": 66
        }
      ]
    },
    {
      "cell_type": "markdown",
      "source": [
        "## **Lower Casing**"
      ],
      "metadata": {
        "id": "7e1foFqzy1bx"
      }
    },
    {
      "cell_type": "code",
      "source": [
        "for i in range(0,len(split_text)):\n",
        "  split_text[i]=split_text[i].lower()\n",
        "print(split_text)"
      ],
      "metadata": {
        "id": "17ZRlJBFy1Ja"
      },
      "execution_count": null,
      "outputs": []
    },
    {
      "cell_type": "code",
      "source": [
        "for i in range(0,len(chunks)):\n",
        "  chunks[i]=chunks[i].lower()\n",
        "print(chunks)"
      ],
      "metadata": {
        "id": "lYE-aqiw6CSf"
      },
      "execution_count": null,
      "outputs": []
    },
    {
      "cell_type": "markdown",
      "source": [
        "## **Stop Words**\n",
        "\n",
        "\n",
        "*   **Contextual Significance:** In some contexts, stop words can carry important contextual information. For example, in sentiment analysis, the presence or absence of words like \"not\" or \"but\" among stop words can significantly alter the sentiment conveyed in a sentence.\n",
        "\n",
        "*   **Phrase and Relationship Identification:** Stop words can be crucial for understanding relationships between words or phrases. For instance, in named entity recognition, understanding phrases like \"head of the department\" might require consideration of stop words.\n",
        "\n",
        "*   **Semantic Understanding:** Certain stop words contribute to the semantic nuances of a sentence. Removing them may oversimplify the language model's understanding. For example, consider the difference between \"I like ice cream\" and \"I don't like ice cream.\" The negation \"don't\" changes the entire meaning.\n",
        "\n",
        "*   **Language Models and Pretrained Embeddings:** Advanced language models, such as BERT or GPT, are pretrained on large corpora that include stop words. These models are often designed to capture the complex relationships and nuances present in natural language, including the use of common words like stop words.\n",
        "\n"
      ],
      "metadata": {
        "id": "Jz8atnIn6pCP"
      }
    },
    {
      "cell_type": "markdown",
      "source": [
        "# **Text Encoding**"
      ],
      "metadata": {
        "id": "utH2uEA4SMKS"
      }
    },
    {
      "cell_type": "markdown",
      "source": [
        "**Using Word2Vec**"
      ],
      "metadata": {
        "id": "R_SjeL1I8V3K"
      }
    },
    {
      "cell_type": "code",
      "source": [
        "from gensim.models import Word2Vec\n",
        "from nltk.tokenize import word_tokenize\n",
        "from nltk import download"
      ],
      "metadata": {
        "id": "iJX2rJOJ8Vg7"
      },
      "execution_count": 73,
      "outputs": []
    },
    {
      "cell_type": "code",
      "source": [
        "type(split_text)"
      ],
      "metadata": {
        "colab": {
          "base_uri": "https://localhost:8080/"
        },
        "id": "SyRiAy7qAH6R",
        "outputId": "39e1e653-5e20-4c25-99e5-37e3b8320d1a"
      },
      "execution_count": 75,
      "outputs": [
        {
          "output_type": "execute_result",
          "data": {
            "text/plain": [
              "list"
            ]
          },
          "metadata": {},
          "execution_count": 75
        }
      ]
    },
    {
      "cell_type": "code",
      "source": [
        "# Tokenize sentences into words\n",
        "tokenized_sentences = [word_tokenize(sentence.lower()) for sentence in data[0].page_content]\n",
        "\n",
        "word2vec_model = Word2Vec(sentences=tokenized_sentences, vector_size=10, window=3, min_count=1)\n",
        "\n",
        "encoded_sentences = [word2vec_model.wv[word] for sentence in tokenized_sentences for word in sentence]\n",
        "\n",
        "print(encoded_sentences[0])"
      ],
      "metadata": {
        "colab": {
          "base_uri": "https://localhost:8080/"
        },
        "id": "zvnHH1NI_0ot",
        "outputId": "0dafb374-74f4-44e3-9f06-1642d7afa6fe"
      },
      "execution_count": 85,
      "outputs": [
        {
          "output_type": "stream",
          "name": "stdout",
          "text": [
            "[-0.00536227  0.00236431  0.0510335   0.09009273 -0.0930295  -0.07116809\n",
            "  0.06458873  0.08972988 -0.05015428 -0.03763372]\n"
          ]
        }
      ]
    },
    {
      "cell_type": "markdown",
      "source": [
        "**Using Sentence Transformers**"
      ],
      "metadata": {
        "id": "AiPFdJnq8PhB"
      }
    },
    {
      "cell_type": "code",
      "source": [
        "!pip install -U sentence-transformers"
      ],
      "metadata": {
        "id": "xzmVc_AHSxkZ"
      },
      "execution_count": null,
      "outputs": []
    },
    {
      "cell_type": "code",
      "source": [
        "from sentence_transformers import SentenceTransformer"
      ],
      "metadata": {
        "id": "Ry3FXRFaSLi4"
      },
      "execution_count": null,
      "outputs": []
    },
    {
      "cell_type": "code",
      "source": [
        "encoder = SentenceTransformer(\"all-mpnet-base-v2\")\n",
        "vectors = encoder.encode(chunks)"
      ],
      "metadata": {
        "id": "rZUbzAdkqSQH"
      },
      "execution_count": null,
      "outputs": []
    },
    {
      "cell_type": "code",
      "source": [
        "vectors.shape"
      ],
      "metadata": {
        "colab": {
          "base_uri": "https://localhost:8080/"
        },
        "id": "h4AiCR_rS4cJ",
        "outputId": "e2b1cf63-8dbd-4d9a-88d4-ba1b578b8168"
      },
      "execution_count": null,
      "outputs": [
        {
          "output_type": "execute_result",
          "data": {
            "text/plain": [
              "(82, 768)"
            ]
          },
          "metadata": {},
          "execution_count": 18
        }
      ]
    },
    {
      "cell_type": "code",
      "source": [
        "vectors"
      ],
      "metadata": {
        "colab": {
          "base_uri": "https://localhost:8080/"
        },
        "id": "sACufZJ0TCUL",
        "outputId": "10c04145-17d5-4d23-c8e2-5238c89b6625"
      },
      "execution_count": null,
      "outputs": [
        {
          "output_type": "execute_result",
          "data": {
            "text/plain": [
              "array([[ 0.01320673,  0.00765528, -0.0240848 , ...,  0.00959999,\n",
              "        -0.00872671, -0.03693042],\n",
              "       [ 0.01485062,  0.00409342, -0.02708353, ...,  0.01027958,\n",
              "         0.05401218,  0.00116658],\n",
              "       [ 0.00928082,  0.04070557, -0.00973405, ...,  0.04211338,\n",
              "        -0.01261995, -0.01598052],\n",
              "       ...,\n",
              "       [-0.01647301,  0.05644056,  0.01641973, ..., -0.02802298,\n",
              "        -0.05371527, -0.01463401],\n",
              "       [-0.03151038,  0.05948889, -0.01785636, ..., -0.00921739,\n",
              "         0.01188063,  0.00720132],\n",
              "       [-0.0372266 ,  0.07374094,  0.00183831, ...,  0.020676  ,\n",
              "        -0.01677126,  0.00475836]], dtype=float32)"
            ]
          },
          "metadata": {},
          "execution_count": 19
        }
      ]
    },
    {
      "cell_type": "code",
      "source": [
        "dim = vectors.shape[1]"
      ],
      "metadata": {
        "id": "0uJdQ5j1UfW4"
      },
      "execution_count": 62,
      "outputs": []
    }
  ]
}