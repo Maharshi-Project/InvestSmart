{
  "nbformat": 4,
  "nbformat_minor": 0,
  "metadata": {
    "colab": {
      "provenance": [],
      "authorship_tag": "ABX9TyP+fpILqVq6vJGzZHr4fqT2",
      "include_colab_link": true
    },
    "kernelspec": {
      "name": "python3",
      "display_name": "Python 3"
    },
    "language_info": {
      "name": "python"
    }
  },
  "cells": [
    {
      "cell_type": "markdown",
      "metadata": {
        "id": "view-in-github",
        "colab_type": "text"
      },
      "source": [
        "<a href=\"https://colab.research.google.com/github/Maharshi-Project/InvestSmart/blob/main/Mandate_2_NLP.ipynb\" target=\"_parent\"><img src=\"https://colab.research.google.com/assets/colab-badge.svg\" alt=\"Open In Colab\"/></a>"
      ]
    },
    {
      "cell_type": "code",
      "execution_count": null,
      "metadata": {
        "id": "GtfBb_qpN35C"
      },
      "outputs": [],
      "source": [
        "!pip install langchain\n",
        "!pip3 install unstructured libmagic python-magic"
      ]
    },
    {
      "cell_type": "code",
      "source": [
        "from langchain_community.document_loaders import UnstructuredURLLoader"
      ],
      "metadata": {
        "id": "VX9LGLDJQjix"
      },
      "execution_count": null,
      "outputs": []
    },
    {
      "cell_type": "code",
      "source": [
        "urls = [\n",
        "    \"https://www.moneycontrol.com/news/india/fuel-retailers-swap-central-welfare-scheme-hoardings-with-modis-guarantee-at-petrol-pumps-12402651.html\",\n",
        "    \"https://www.moneycontrol.com/news/business/ey-financial-services-spearhead-and-veteran-dealmaker-abizer-diwanji-steps-down-12408411.html\",\n",
        "    \"https://www.bbc.com/news/technology-68483732\",\n",
        "    \"https://example.com/some-other-url\",\n",
        "    \"https://www.business-standard.com/industry/news/air-india-records-lowest-punctuality-rate-at-60-19-in-february-shows-data-124030600848_1.html\"\n",
        "]"
      ],
      "metadata": {
        "id": "taINvLAEbhp3"
      },
      "execution_count": null,
      "outputs": []
    },
    {
      "cell_type": "code",
      "source": [
        "import re\n",
        "\n",
        "def check_url(url):\n",
        "    moneycontrol_pattern = r'^https:\\/\\/www\\.moneycontrol\\.com\\/'\n",
        "    bbc_pattern = r'^https:\\/\\/www\\.bbc\\.com\\/'\n",
        "    business_standards = r'^https:\\/\\/www.business-standard\\.com\\/'\n",
        "\n",
        "    if re.match(moneycontrol_pattern, url):\n",
        "        return \"This is a Moneycontrol URL.\"\n",
        "    elif re.match(bbc_pattern, url):\n",
        "        return \"This is a BBC News URL.\"\n",
        "    elif re.match(business_standards, url):\n",
        "        return \"This is Business Standard News URL.\"\n",
        "    else:\n",
        "        return \"This URL does not match either Moneycontrol or BBC News.\"\n",
        "\n",
        "# Check each URL and print the message\n",
        "for url in urls:\n",
        "    result = check_url(url)\n",
        "    print(f\"{url} : {result}\")\n"
      ],
      "metadata": {
        "colab": {
          "base_uri": "https://localhost:8080/"
        },
        "id": "nk4yw0rQi_wm",
        "outputId": "396e6413-e300-4580-9010-6588405ec5f2"
      },
      "execution_count": null,
      "outputs": [
        {
          "output_type": "stream",
          "name": "stdout",
          "text": [
            "https://www.moneycontrol.com/news/india/fuel-retailers-swap-central-welfare-scheme-hoardings-with-modis-guarantee-at-petrol-pumps-12402651.html: This is a Moneycontrol URL.\n",
            "https://www.moneycontrol.com/news/business/ey-financial-services-spearhead-and-veteran-dealmaker-abizer-diwanji-steps-down-12408411.html: This is a Moneycontrol URL.\n",
            "https://www.bbc.com/news/technology-68483732: This is a BBC News URL.\n",
            "https://example.com/some-other-url: This URL does not match either Moneycontrol or BBC News.\n",
            "https://www.business-standard.com/industry/news/air-india-records-lowest-punctuality-rate-at-60-19-in-february-shows-data-124030600848_1.html: This is Business Standard News URL.\n"
          ]
        }
      ]
    },
    {
      "cell_type": "code",
      "source": [
        "loader = UnstructuredURLLoader(urls=urls)"
      ],
      "metadata": {
        "id": "w3RHaNDxbn3E"
      },
      "execution_count": null,
      "outputs": []
    },
    {
      "cell_type": "code",
      "source": [
        "data = loader.load()"
      ],
      "metadata": {
        "colab": {
          "base_uri": "https://localhost:8080/"
        },
        "id": "uvRmu6Wjbo-q",
        "outputId": "631f68d4-70da-4186-e142-c9df55791792"
      },
      "execution_count": null,
      "outputs": [
        {
          "output_type": "stream",
          "name": "stderr",
          "text": [
            "[nltk_data] Downloading package punkt to /root/nltk_data...\n",
            "[nltk_data]   Unzipping tokenizers/punkt.zip.\n",
            "[nltk_data] Downloading package averaged_perceptron_tagger to\n",
            "[nltk_data]     /root/nltk_data...\n",
            "[nltk_data]   Unzipping taggers/averaged_perceptron_tagger.zip.\n"
          ]
        }
      ]
    },
    {
      "cell_type": "code",
      "source": [
        "type(data[0].page_content)"
      ],
      "metadata": {
        "colab": {
          "base_uri": "https://localhost:8080/"
        },
        "id": "m4kJgBtGRm2Z",
        "outputId": "507e65ab-908b-492d-dd2a-a17ec2b10aae"
      },
      "execution_count": null,
      "outputs": [
        {
          "output_type": "execute_result",
          "data": {
            "text/plain": [
              "str"
            ]
          },
          "metadata": {},
          "execution_count": 10
        }
      ]
    },
    {
      "cell_type": "markdown",
      "source": [
        "# **Text Splitting**\n",
        "**Splitting data into chunks can be done in native python but it is a tidious process. Also if necessary, you may need to experiment with various delimiters in an iterative manner to ensure that each chunk does not exceed the token length limit of the respective LLM.\n",
        "Langchain provides a better way through text splitter classes.**"
      ],
      "metadata": {
        "id": "mf49qWrifGN9"
      }
    },
    {
      "cell_type": "code",
      "source": [
        "text = \"\"\"Most traditional communication media, including telephone, radio, television, paper mail, and newspapers, are reshaped, redefined, or even bypassed by the Internet, giving birth to new services such as email, Internet telephone, Internet television, online music, digital newspapers, and video streaming websites. Newspaper, book, and other print publishing have adapted to website technology or have been reshaped into blogging, web feeds, and online news aggregators. The Internet has enabled and accelerated new forms of personal interaction through instant messaging, Internet forums, and social networking services. Online shopping has grown exponentially for major retailers, small businesses, and entrepreneurs, as it enables firms to extend their \"brick and mortar\" presence to serve a larger market or even sell goods and services entirely online. Business-to-business and financial services on the Internet affect supply chains across entire industries.\"\"\""
      ],
      "metadata": {
        "id": "1IHBv6Wpc7wv"
      },
      "execution_count": null,
      "outputs": []
    },
    {
      "cell_type": "code",
      "source": [
        "from langchain.text_splitter import RecursiveCharacterTextSplitter\n",
        "\n",
        "r_splitter = RecursiveCharacterTextSplitter(\n",
        "    separators = [\"\\n\\n\", \"\\n\", \" \"],  # List of separators based on requirement (defaults to [\"\\n\\n\", \"\\n\", \" \"])\n",
        "    chunk_size = 200,  # size of each chunk created\n",
        "    chunk_overlap  = 0,  # size of  overlap between chunks in order to maintain the context\n",
        "    length_function = len  # Function to calculate size, currently we are using \"len\" which denotes length of string however you can pass any token counter)\n",
        ")"
      ],
      "metadata": {
        "id": "V8m3o1OVfMqR"
      },
      "execution_count": null,
      "outputs": []
    },
    {
      "cell_type": "code",
      "source": [
        "text = data[0].page_content\n",
        "chunks = r_splitter.split_text(text)\n",
        "\n",
        "# for chunk in chunks:\n",
        "#     print((chunk))\n",
        "#     print(\"\\n\")"
      ],
      "metadata": {
        "id": "4J2rppHXqHue"
      },
      "execution_count": null,
      "outputs": []
    },
    {
      "cell_type": "code",
      "source": [
        "len(chunks)"
      ],
      "metadata": {
        "colab": {
          "base_uri": "https://localhost:8080/"
        },
        "id": "uTxLeGuqTMeJ",
        "outputId": "d1f22623-99dd-4c49-d00e-3f6ab004a78d"
      },
      "execution_count": null,
      "outputs": [
        {
          "output_type": "execute_result",
          "data": {
            "text/plain": [
              "82"
            ]
          },
          "metadata": {},
          "execution_count": 14
        }
      ]
    },
    {
      "cell_type": "markdown",
      "source": [
        "# **Text Encoding**"
      ],
      "metadata": {
        "id": "utH2uEA4SMKS"
      }
    },
    {
      "cell_type": "code",
      "source": [
        "!pip install -U sentence-transformers"
      ],
      "metadata": {
        "id": "xzmVc_AHSxkZ"
      },
      "execution_count": null,
      "outputs": []
    },
    {
      "cell_type": "code",
      "source": [
        "from sentence_transformers import SentenceTransformer"
      ],
      "metadata": {
        "id": "Ry3FXRFaSLi4"
      },
      "execution_count": null,
      "outputs": []
    },
    {
      "cell_type": "code",
      "source": [
        "encoder = SentenceTransformer(\"all-mpnet-base-v2\")\n",
        "vectors = encoder.encode(chunks)"
      ],
      "metadata": {
        "id": "rZUbzAdkqSQH"
      },
      "execution_count": null,
      "outputs": []
    },
    {
      "cell_type": "code",
      "source": [
        "vectors.shape"
      ],
      "metadata": {
        "colab": {
          "base_uri": "https://localhost:8080/"
        },
        "id": "h4AiCR_rS4cJ",
        "outputId": "e2b1cf63-8dbd-4d9a-88d4-ba1b578b8168"
      },
      "execution_count": null,
      "outputs": [
        {
          "output_type": "execute_result",
          "data": {
            "text/plain": [
              "(82, 768)"
            ]
          },
          "metadata": {},
          "execution_count": 18
        }
      ]
    },
    {
      "cell_type": "code",
      "source": [
        "vectors"
      ],
      "metadata": {
        "colab": {
          "base_uri": "https://localhost:8080/"
        },
        "id": "sACufZJ0TCUL",
        "outputId": "10c04145-17d5-4d23-c8e2-5238c89b6625"
      },
      "execution_count": null,
      "outputs": [
        {
          "output_type": "execute_result",
          "data": {
            "text/plain": [
              "array([[ 0.01320673,  0.00765528, -0.0240848 , ...,  0.00959999,\n",
              "        -0.00872671, -0.03693042],\n",
              "       [ 0.01485062,  0.00409342, -0.02708353, ...,  0.01027958,\n",
              "         0.05401218,  0.00116658],\n",
              "       [ 0.00928082,  0.04070557, -0.00973405, ...,  0.04211338,\n",
              "        -0.01261995, -0.01598052],\n",
              "       ...,\n",
              "       [-0.01647301,  0.05644056,  0.01641973, ..., -0.02802298,\n",
              "        -0.05371527, -0.01463401],\n",
              "       [-0.03151038,  0.05948889, -0.01785636, ..., -0.00921739,\n",
              "         0.01188063,  0.00720132],\n",
              "       [-0.0372266 ,  0.07374094,  0.00183831, ...,  0.020676  ,\n",
              "        -0.01677126,  0.00475836]], dtype=float32)"
            ]
          },
          "metadata": {},
          "execution_count": 19
        }
      ]
    },
    {
      "cell_type": "code",
      "source": [
        "dim = vectors.shape[1]\n",
        "dim"
      ],
      "metadata": {
        "colab": {
          "base_uri": "https://localhost:8080/"
        },
        "id": "0uJdQ5j1UfW4",
        "outputId": "58579091-5c28-4ebc-98ac-e62652d52d6b"
      },
      "execution_count": null,
      "outputs": [
        {
          "output_type": "execute_result",
          "data": {
            "text/plain": [
              "768"
            ]
          },
          "metadata": {},
          "execution_count": 20
        }
      ]
    }
  ]
}